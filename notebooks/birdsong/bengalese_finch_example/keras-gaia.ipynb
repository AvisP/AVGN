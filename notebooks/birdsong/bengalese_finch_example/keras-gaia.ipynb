{
 "cells": [
  {
   "cell_type": "code",
   "execution_count": 1,
   "metadata": {
    "ExecuteTime": {
     "end_time": "2019-05-08T23:56:33.510342Z",
     "start_time": "2019-05-08T23:56:33.492268Z"
    }
   },
   "outputs": [],
   "source": [
    "%load_ext autoreload\n",
    "%autoreload 2"
   ]
  },
  {
   "cell_type": "code",
   "execution_count": 2,
   "metadata": {
    "ExecuteTime": {
     "end_time": "2019-05-08T23:56:33.592232Z",
     "start_time": "2019-05-08T23:56:33.511881Z"
    }
   },
   "outputs": [
    {
     "name": "stdout",
     "output_type": "stream",
     "text": [
      "env: CUDA_DEVICE_ORDER=PCI_BUS_ID\n",
      "env: CUDA_VISIBLE_DEVICES=0\n"
     ]
    }
   ],
   "source": [
    "%env CUDA_DEVICE_ORDER=PCI_BUS_ID\n",
    "%env CUDA_VISIBLE_DEVICES=0"
   ]
  },
  {
   "cell_type": "code",
   "execution_count": 3,
   "metadata": {
    "ExecuteTime": {
     "end_time": "2019-05-08T23:56:37.027418Z",
     "start_time": "2019-05-08T23:56:33.596502Z"
    },
    "scrolled": true
   },
   "outputs": [
    {
     "name": "stderr",
     "output_type": "stream",
     "text": [
      "/mnt/cube/tsainbur/conda_envs/tpy3/lib/python3.6/site-packages/tqdm/autonotebook/__init__.py:14: TqdmExperimentalWarning: Using `tqdm.autonotebook.tqdm` in notebook mode. Use `tqdm.tqdm` instead to force console mode (e.g. in jupyter console)\n",
      "  \" (e.g. in jupyter console)\", TqdmExperimentalWarning)\n"
     ]
    }
   ],
   "source": [
    "import tensorflow as tf\n",
    "from datetime import datetime\n",
    "import pandas as pd\n",
    "from tqdm.autonotebook import tqdm\n",
    "from IPython import display\n",
    "import numpy as np\n",
    "import matplotlib.pyplot as plt\n",
    "%matplotlib inline"
   ]
  },
  {
   "cell_type": "code",
   "execution_count": 4,
   "metadata": {
    "ExecuteTime": {
     "end_time": "2019-05-08T23:56:37.329171Z",
     "start_time": "2019-05-08T23:56:37.029779Z"
    }
   },
   "outputs": [],
   "source": [
    "from avgn.networks.gaia import GAIA\n",
    "from avgn.networks.test_datasets import load_fashion_MNIST\n",
    "from avgn.networks.sample_networks import fc_net, conv_net"
   ]
  },
  {
   "cell_type": "code",
   "execution_count": 5,
   "metadata": {
    "ExecuteTime": {
     "end_time": "2019-05-08T23:56:37.386125Z",
     "start_time": "2019-05-08T23:56:37.331933Z"
    }
   },
   "outputs": [],
   "source": [
    "epochs = 100\n",
    "latent_dim = 512\n",
    "batch_size = 64\n",
    "dims = (28 , 28, 1)"
   ]
  },
  {
   "cell_type": "code",
   "execution_count": 6,
   "metadata": {
    "ExecuteTime": {
     "end_time": "2019-05-08T23:56:37.465475Z",
     "start_time": "2019-05-08T23:56:37.388124Z"
    }
   },
   "outputs": [],
   "source": [
    "from tensorflow.keras.layers import (\n",
    "    RepeatVector,\n",
    "    Dense,\n",
    "    TimeDistributed,\n",
    "    Conv1D,\n",
    "    Conv2D,\n",
    "    Reshape,\n",
    "    Bidirectional,\n",
    "    concatenate,\n",
    "    Input,\n",
    "    UpSampling2D,\n",
    "    MaxPooling2D,\n",
    ")  # , LSTM\n",
    "from tensorflow.python.keras.layers.recurrent import UnifiedLSTM as LSTM\n",
    "from tensorflow.python.keras.layers.recurrent import UnifiedGRU as GRU\n",
    "from tensorflow.keras import Model"
   ]
  },
  {
   "cell_type": "code",
   "execution_count": 7,
   "metadata": {
    "ExecuteTime": {
     "end_time": "2019-05-08T23:56:37.652197Z",
     "start_time": "2019-05-08T23:56:37.467389Z"
    }
   },
   "outputs": [],
   "source": [
    "def unet_convblock_down(\n",
    "    _input,\n",
    "    channels=16,\n",
    "    kernel=(3, 3),\n",
    "    activation=\"relu\",\n",
    "    pool_size=(2, 2),\n",
    "    kernel_initializer=\"he_normal\",\n",
    "):\n",
    "    conv = Conv2D(\n",
    "        channels,\n",
    "        kernel,\n",
    "        activation=activation,\n",
    "        padding=\"same\",\n",
    "        kernel_initializer=kernel_initializer,\n",
    "    )(_input)\n",
    "    conv = Conv2D(\n",
    "        channels,\n",
    "        kernel,\n",
    "        activation=activation,\n",
    "        padding=\"same\",\n",
    "        kernel_initializer=kernel_initializer,\n",
    "    )(conv)\n",
    "    pool = MaxPooling2D(pool_size=pool_size)(conv)\n",
    "    return conv, pool"
   ]
  },
  {
   "cell_type": "code",
   "execution_count": 8,
   "metadata": {
    "ExecuteTime": {
     "end_time": "2019-05-08T23:56:37.738107Z",
     "start_time": "2019-05-08T23:56:37.654286Z"
    }
   },
   "outputs": [],
   "source": [
    "def unet_convblock_up(\n",
    "    last_conv,\n",
    "    cross_conv,\n",
    "    channels=16,\n",
    "    kernel=(3, 3),\n",
    "    activation=\"relu\",\n",
    "    pool_size=(2, 2),\n",
    "    kernel_initializer=\"he_normal\",\n",
    "):\n",
    "    \n",
    "    up_conv = UpSampling2D(size=(2, 2))(last_conv)\n",
    "    merge = concatenate([up_conv, cross_conv], axis = 3)\n",
    "    conv = Conv2D(\n",
    "        channels,\n",
    "        kernel,\n",
    "        activation=activation,\n",
    "        padding=\"same\",\n",
    "        kernel_initializer=kernel_initializer,\n",
    "    )(merge)\n",
    "    conv = Conv2D(\n",
    "        channels,\n",
    "        kernel,\n",
    "        activation=activation,\n",
    "        padding=\"same\",\n",
    "        kernel_initializer=kernel_initializer,\n",
    "    )(conv)\n",
    "    return conv"
   ]
  },
  {
   "cell_type": "code",
   "execution_count": 9,
   "metadata": {
    "ExecuteTime": {
     "end_time": "2019-05-08T23:56:37.829782Z",
     "start_time": "2019-05-08T23:56:37.740367Z"
    }
   },
   "outputs": [],
   "source": [
    "def unet_mnist():\n",
    "    inputs = Input(shape=(28, 28, 1))\n",
    "    up_1, pool_1 = unet_convblock_down(inputs, channels=32)\n",
    "    up_2, pool_2 = unet_convblock_down(pool_1, channels=64)\n",
    "    conv_middle = Conv2D(\n",
    "        128, (3, 3), activation=\"relu\", kernel_initializer=\"he_normal\", padding=\"same\"\n",
    "    )(pool_2)\n",
    "    conv_middle = Conv2D(\n",
    "        128, (3, 3), activation=\"relu\", kernel_initializer=\"he_normal\", padding=\"same\"\n",
    "    )(conv_middle)\n",
    "    down_2 = unet_convblock_up(conv_middle, up_2, channels=64)\n",
    "    down_1 = unet_convblock_up(down_2, up_1, channels=32)\n",
    "    outputs = Conv2D(1, (1,1), activation=\"sigmoid\")(down_1)\n",
    "    return inputs, outputs"
   ]
  },
  {
   "cell_type": "code",
   "execution_count": 10,
   "metadata": {
    "ExecuteTime": {
     "end_time": "2019-05-08T23:56:37.941255Z",
     "start_time": "2019-05-08T23:56:37.831788Z"
    }
   },
   "outputs": [],
   "source": [
    "def plot_recon(example_data, nex = 3, zm = 2):\n",
    "    z, xg, zi, xi, d_xi, d_x, d_xg = model.network_pass(example_data)\n",
    "    fig, axs = plt.subplots(ncols=6, nrows = nex, figsize=(zm*6, zm*nex))\n",
    "    for axi, (dat, lab) in enumerate(\n",
    "        zip(\n",
    "            [example_data, xg, xi, d_xi, d_x, d_xg],\n",
    "            [\"data\", \"gen\", \"interp\", \"disc interp\", \"disc data\", \"disc gen\"],\n",
    "        )\n",
    "    ):\n",
    "        for ex in range(nex):\n",
    "            axs[ex, axi].matshow(dat.numpy()[ex].squeeze(), cmap = plt.cm.Greys, vmin=0, vmax=1)\n",
    "            axs[ex, axi].axis('off')\n",
    "        axs[0, axi].set_title(lab)\n",
    "        \n",
    "    plt.show()"
   ]
  },
  {
   "cell_type": "code",
   "execution_count": 11,
   "metadata": {
    "ExecuteTime": {
     "end_time": "2019-05-08T23:56:38.015288Z",
     "start_time": "2019-05-08T23:56:37.943905Z"
    }
   },
   "outputs": [],
   "source": [
    "def plot_losses(losses):\n",
    "    fig, axs = plt.subplots(ncols=4, figsize=(15,4))\n",
    "    axs[0].semilogx(losses.D_prop.values, label = 'D_prop')\n",
    "    axs[0].set_ylim([0,1])\n",
    "    axs[1].loglog(losses.d_x_loss.values, label = 'd_x_loss')\n",
    "    axs[2].loglog(losses.d_xg_loss.values, label='d_xg_loss')\n",
    "    axs[3].loglog(losses.d_xi_loss.values, label='d_xi_loss')\n",
    "    for ax in axs.flatten():\n",
    "        ax.legend()\n",
    "    plt.show()"
   ]
  },
  {
   "cell_type": "code",
   "execution_count": 12,
   "metadata": {
    "ExecuteTime": {
     "end_time": "2019-05-08T23:56:38.106836Z",
     "start_time": "2019-05-08T23:56:38.017290Z"
    }
   },
   "outputs": [],
   "source": [
    "def test_losses(model, test_dataset, batch_size=512, TEST_BUF=1000):\n",
    "    niter = int((TEST_BUF / batch_size) - 2)\n",
    "    test_loss = []\n",
    "    tx = 0\n",
    "    for test_x in tqdm(test_dataset, total=niter, leave=False):\n",
    "        test_loss.append(model.compute_loss(test_x))\n",
    "        tx += 1\n",
    "        if tx > niter:\n",
    "            break\n",
    "    D_prop, d_x_loss, d_xg_loss, d_xi_loss = np.mean(\n",
    "        [[i.numpy() for i in row] for row in test_loss], axis=0\n",
    "    )\n",
    "    return D_prop, d_x_loss, d_xg_loss, d_xi_loss"
   ]
  },
  {
   "cell_type": "code",
   "execution_count": 13,
   "metadata": {
    "ExecuteTime": {
     "end_time": "2019-05-08T23:56:38.266442Z",
     "start_time": "2019-05-08T23:56:38.108744Z"
    }
   },
   "outputs": [],
   "source": [
    "network_arch = conv_net(dims=dims, n_Z = latent_dim)"
   ]
  },
  {
   "cell_type": "code",
   "execution_count": 14,
   "metadata": {
    "ExecuteTime": {
     "end_time": "2019-05-08T23:56:41.544068Z",
     "start_time": "2019-05-08T23:56:38.271444Z"
    },
    "code_folding": []
   },
   "outputs": [],
   "source": [
    "# get the datasets\n",
    "TRAIN_BUF = 60000\n",
    "train_dataset, test_dataset = load_fashion_MNIST(BATCH_SIZE=batch_size, TRAIN_BUF=TRAIN_BUF)"
   ]
  },
  {
   "cell_type": "code",
   "execution_count": null,
   "metadata": {
    "ExecuteTime": {
     "start_time": "2019-05-08T23:56:33.126Z"
    }
   },
   "outputs": [],
   "source": [
    "from avgn.networks.gaia import GAIA\n",
    "\n",
    "# prepare the optimizer\n",
    "gen_optimizer = tf.keras.optimizers.Adam(1e-5, beta_1 = 0.5)\n",
    "disc_optimizer = tf.keras.optimizers.RMSprop(1e-5)\n",
    "# train the model\n",
    "model = GAIA(\n",
    "    enc = network_arch.encoder,\n",
    "    dec = network_arch.decoder,\n",
    "    unet_function = unet_mnist,\n",
    "    dims = dims, \n",
    "    gen_optimizer = gen_optimizer,\n",
    "    disc_optimizer = disc_optimizer,\n",
    "    lr = 1e-5, \n",
    "    alpha = 0.1,\n",
    "    batch_size= batch_size,\n",
    "    \n",
    ")"
   ]
  },
  {
   "cell_type": "code",
   "execution_count": null,
   "metadata": {
    "ExecuteTime": {
     "start_time": "2019-05-08T23:56:33.128Z"
    }
   },
   "outputs": [],
   "source": [
    "example_data = next(iter(train_dataset))\n",
    "z = model.encode(example_data)\n",
    "zi = model._interpolate_z(z)\n",
    "d_x = model.discriminate(example_data)\n",
    "#plot_recon(example_data)"
   ]
  },
  {
   "cell_type": "code",
   "execution_count": null,
   "metadata": {
    "ExecuteTime": {
     "start_time": "2019-05-08T23:56:33.130Z"
    }
   },
   "outputs": [],
   "source": [
    "losses = pd.DataFrame(columns=['D_prop', 'd_x_loss', 'd_xg_loss', 'd_xi_loss'])"
   ]
  },
  {
   "cell_type": "code",
   "execution_count": null,
   "metadata": {
    "ExecuteTime": {
     "start_time": "2019-05-08T23:56:33.133Z"
    },
    "scrolled": true
   },
   "outputs": [
    {
     "data": {
      "image/png": "[encoded data removed]",
      "text/plain": [
       "<Figure size 864x432 with 18 Axes>"
      ]
     },
     "metadata": {
      "needs_background": "light"
     },
     "output_type": "display_data"
    },
    {
     "data": {
      "application/vnd.jupyter.widget-view+json": {
       "model_id": "08d28d8fb6474145a27ee136102cc899",
       "version_major": 2,
       "version_minor": 0
      },
      "text/plain": [
       "HBox(children=(IntProgress(value=0, max=13), HTML(value='')))"
      ]
     },
     "metadata": {},
     "output_type": "display_data"
    },
    {
     "name": "stdout",
     "output_type": "stream",
     "text": [
      "\r"
     ]
    },
    {
     "data": {
      "image/png": "[encoded data removed]",
      "text/plain": [
       "<Figure size 1080x288 with 4 Axes>"
      ]
     },
     "metadata": {
      "needs_background": "light"
     },
     "output_type": "display_data"
    },
    {
     "data": {
      "application/vnd.jupyter.widget-view+json": {
       "model_id": "2172885ec3224728802e01348404187c",
       "version_major": 2,
       "version_minor": 0
      },
      "text/plain": [
       "HBox(children=(IntProgress(value=1, bar_style='info', max=1), HTML(value='')))"
      ]
     },
     "metadata": {},
     "output_type": "display_data"
    }
   ],
   "source": [
    "for epoch in range(1000): \n",
    "    txi = 0\n",
    "    for train_x in tqdm(train_dataset):\n",
    "        if txi == int(TRAIN_BUF/batch_size)-1: continue\n",
    "        try:\n",
    "            model.train(train_x)\n",
    "        except ValueError: \n",
    "            continue\n",
    "        txi +=1\n",
    "    display.clear_output(wait=False)\n",
    "    plot_recon(example_data)\n",
    "    losses.loc[len(losses)] = test_losses(model, test_dataset, batch_size=batch_size)\n",
    "    plot_losses(losses)\n",
    "    plt.show()"
   ]
  },
  {
   "cell_type": "code",
   "execution_count": null,
   "metadata": {
    "ExecuteTime": {
     "start_time": "2019-05-08T23:56:33.135Z"
    }
   },
   "outputs": [],
   "source": [
    "plot_recon(example_data)"
   ]
  },
  {
   "cell_type": "code",
   "execution_count": null,
   "metadata": {
    "ExecuteTime": {
     "start_time": "2019-05-08T23:56:33.138Z"
    }
   },
   "outputs": [],
   "source": [
    "### in a traditional GAN, the discriminator's job is to flip a switch. "
   ]
  },
  {
   "cell_type": "code",
   "execution_count": null,
   "metadata": {
    "ExecuteTime": {
     "start_time": "2019-05-08T23:56:33.140Z"
    }
   },
   "outputs": [],
   "source": [
    "## the discriminator should be perfectly good at reproducing inputs immediately\n",
    "# the discriminators job is then to determine whether interpolated data is real"
   ]
  },
  {
   "cell_type": "code",
   "execution_count": null,
   "metadata": {},
   "outputs": [],
   "source": []
  },
  {
   "cell_type": "code",
   "execution_count": null,
   "metadata": {},
   "outputs": [],
   "source": []
  },
  {
   "cell_type": "code",
   "execution_count": null,
   "metadata": {},
   "outputs": [],
   "source": []
  }
 ],
 "metadata": {
  "kernelspec": {
   "display_name": "Python 3",
   "language": "python",
   "name": "python3"
  },
  "language_info": {
   "codemirror_mode": {
    "name": "ipython",
    "version": 3
   },
   "file_extension": ".py",
   "mimetype": "text/x-python",
   "name": "python",
   "nbconvert_exporter": "python",
   "pygments_lexer": "ipython3",
   "version": "3.6.8"
  }
 },
 "nbformat": 4,
 "nbformat_minor": 2
}
