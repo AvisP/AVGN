{
 "cells": [
  {
   "cell_type": "code",
   "execution_count": null,
   "metadata": {
    "ExecuteTime": {
     "end_time": "2019-04-24T18:44:06.293620Z",
     "start_time": "2019-04-24T18:44:06.272668Z"
    }
   },
   "outputs": [],
   "source": [
    "%reload_ext autoreload\n",
    "%autoreload 2"
   ]
  },
  {
   "cell_type": "markdown",
   "metadata": {},
   "source": [
    "### Threshold Noise from large WAVs\n",
    "- data are linked at https://figshare.com/articles/BirdsongRecognition/3470165\n",
    "- Part of the function of this notebook is to segment bouts of song from silence, when you have a microphone continuously recording from a bird\n",
    "- The script reads each wav file, finds periods of increased noise, and segments it out as a bout\n",
    "  - There is a also some basic filtering to ignore noise wavs in which birds are shuffling around, wing noises, etc.\n",
    "  - Params need to be uniquely set to your birds"
   ]
  },
  {
   "cell_type": "code",
   "execution_count": 61,
   "metadata": {
    "ExecuteTime": {
     "end_time": "2019-04-25T23:58:22.542438Z",
     "start_time": "2019-04-25T23:58:22.158608Z"
    }
   },
   "outputs": [],
   "source": [
    "import numpy as np\n",
    "import os\n",
    "from tqdm import tqdm_notebook as tqdm\n",
    "from glob import glob\n",
    "from datetime import datetime, timedelta\n",
    "import pandas as pd \n",
    "from sklearn.externals.joblib import Parallel, delayed\n",
    "from collections import defaultdict\n",
    "%matplotlib inline"
   ]
  },
  {
   "cell_type": "code",
   "execution_count": 62,
   "metadata": {
    "ExecuteTime": {
     "end_time": "2019-04-25T23:58:22.636972Z",
     "start_time": "2019-04-25T23:58:22.544673Z"
    }
   },
   "outputs": [],
   "source": [
    "# import local methods from the source code\n",
    "from avgn import wav_to_bouts\n",
    "from avgn.utils.paths import DATA_DIR"
   ]
  },
  {
   "cell_type": "markdown",
   "metadata": {},
   "source": [
    "### Find Each WAV, and the bird attached to the wav\n",
    "- this just parses out filename structure which is unique to this dataset"
   ]
  },
  {
   "cell_type": "code",
   "execution_count": 65,
   "metadata": {
    "ExecuteTime": {
     "end_time": "2019-04-25T23:58:23.416998Z",
     "start_time": "2019-04-25T23:58:23.358312Z"
    }
   },
   "outputs": [],
   "source": [
    "# the location of the dataset\n",
    "input_loc = '/mnt/cube/Datasets/BengaleseFinch/Koumura_Okanoya-paper_data/'"
   ]
  },
  {
   "cell_type": "code",
   "execution_count": 6,
   "metadata": {
    "ExecuteTime": {
     "end_time": "2019-04-24T18:44:10.409764Z",
     "start_time": "2019-04-24T18:44:10.345068Z"
    }
   },
   "outputs": [],
   "source": [
    "# the format of the file structure\n",
    "dsets = [(input_loc+'Bird*/Wave/*.wav', 'BF')]"
   ]
  },
  {
   "cell_type": "code",
   "execution_count": 7,
   "metadata": {
    "ExecuteTime": {
     "end_time": "2019-04-24T18:44:10.555170Z",
     "start_time": "2019-04-24T18:44:10.411370Z"
    }
   },
   "outputs": [
    {
     "data": {
      "application/vnd.jupyter.widget-view+json": {
       "model_id": "92be3987aa164f3489cbd58211f8a09b",
       "version_major": 2,
       "version_minor": 0
      },
      "text/plain": [
       "HBox(children=(IntProgress(value=0, max=1), HTML(value='')))"
      ]
     },
     "metadata": {},
     "output_type": "display_data"
    },
    {
     "name": "stdout",
     "output_type": "stream",
     "text": [
      "\n",
      "/mnt/cube/Datasets/BengaleseFinch/Koumura_Okanoya-paper_data/Bird4/Wave/412.wav 2965\n"
     ]
    }
   ],
   "source": [
    "# get a list of wavs given that file structure format\n",
    "wav_list = np.array([])\n",
    "dset_list = np.array([])\n",
    "for search_directory, dset in tqdm(dsets):\n",
    "    new_wavs = np.array(glob(search_directory))\n",
    "    dset_list = np.append(dset_list, [dset for i in range(len(new_wavs))])\n",
    "    wav_list = np.append(wav_list, new_wavs)\n",
    "print(wav_list[0], len(wav_list))"
   ]
  },
  {
   "cell_type": "code",
   "execution_count": 8,
   "metadata": {
    "ExecuteTime": {
     "end_time": "2019-04-24T18:44:10.623474Z",
     "start_time": "2019-04-24T18:44:10.557770Z"
    }
   },
   "outputs": [
    {
     "name": "stdout",
     "output_type": "stream",
     "text": [
      "['Bird0' 'Bird1' 'Bird10' 'Bird2' 'Bird3' 'Bird4' 'Bird5' 'Bird6' 'Bird7'\n",
      " 'Bird8' 'Bird9']\n"
     ]
    }
   ],
   "source": [
    "# grab the birds name from that list\n",
    "bird_names = [i.split('/')[6] for i in wav_list]\n",
    "print(np.unique(bird_names))"
   ]
  },
  {
   "cell_type": "markdown",
   "metadata": {},
   "source": [
    "#### Extract times for bird / create dataframe of wavs"
   ]
  },
  {
   "cell_type": "code",
   "execution_count": 9,
   "metadata": {
    "ExecuteTime": {
     "end_time": "2019-04-24T18:44:10.706375Z",
     "start_time": "2019-04-24T18:44:10.628481Z"
    }
   },
   "outputs": [
    {
     "data": {
      "text/plain": [
       "['/mnt/cube/Datasets/BengaleseFinch/Koumura_Okanoya-paper_data/Bird4/Annotation.xml',\n",
       " '/mnt/cube/Datasets/BengaleseFinch/Koumura_Okanoya-paper_data/Bird3/Annotation.xml']"
      ]
     },
     "execution_count": 9,
     "metadata": {},
     "output_type": "execute_result"
    }
   ],
   "source": [
    "# find all of the XML files associated with that dataset\n",
    "bird_xml_locs = glob(input_loc+'/*/Annotation.xml')\n",
    "bird_xml_locs[:2]"
   ]
  },
  {
   "cell_type": "markdown",
   "metadata": {},
   "source": [
    "#### this part requires some custom parsing of an XML file to get wav time info\n",
    "- as far as I can tell specific datetime information is not available in the XML"
   ]
  },
  {
   "cell_type": "code",
   "execution_count": 19,
   "metadata": {
    "ExecuteTime": {
     "end_time": "2019-04-24T18:48:57.402802Z",
     "start_time": "2019-04-24T18:48:57.326073Z"
    }
   },
   "outputs": [],
   "source": [
    "import xml.etree.ElementTree\n",
    "def Koumura_Okanoya_wavtimes(wav_list):\n",
    "    # we cant parse anything about datetime from these wavs so we just make something up\n",
    "    wav_times = []\n",
    "    wav_loc = wav_list[0]\n",
    "    n_no_date = 0\n",
    "    for wav_file in wav_list:\n",
    "        # default give up method\n",
    "        dt = datetime(1900, 1, 1, 0, 0) + timedelta(hours=n_no_date)\n",
    "        n_no_date += 1\n",
    "        wav_times.append(dt)\n",
    "    wav_times = np.array(wav_times)\n",
    "    return wav_times\n",
    "    \n",
    "def Koumura_Okanoya_parser(bird_xml_locs, wav_list):\n",
    "    \"\"\" parses XML from Koumura_Okanoya data format\n",
    "    \"\"\"\n",
    "    song_df = pd.DataFrame(\n",
    "        columns=[\n",
    "            \"bird\",\n",
    "            \"WavLoc\",\n",
    "            \"WaveFileName\",\n",
    "            \"Position\",\n",
    "            \"Length\",\n",
    "            \"NumNote\",\n",
    "            \"NotePositions\",\n",
    "            \"NoteLengths\",\n",
    "            \"NoteLabels\",\n",
    "        ]\n",
    "    )\n",
    "    for bird_loc in tqdm(bird_xml_locs):\n",
    "        bird_xml = xml.etree.ElementTree.parse(bird_loc).getroot()\n",
    "        bird = bird_loc.split(\"/\")[-2]\n",
    "        for element in tqdm(bird_xml.getchildren(), leave=False):\n",
    "            if element.tag == \"Sequence\":\n",
    "                notePositions = []\n",
    "                noteLengths = []\n",
    "                noteLabels = []\n",
    "                for seq_element in element.getchildren():\n",
    "                    if seq_element.tag == \"Position\":\n",
    "                        position = seq_element.text\n",
    "                    elif seq_element.tag == \"Length\":\n",
    "                        length = seq_element.text\n",
    "                    elif seq_element.tag == \"WaveFileName\":\n",
    "                        WaveFileName = seq_element.text\n",
    "                    elif seq_element.tag == \"NumNote\":\n",
    "                        NumNote = seq_element.text\n",
    "                    elif seq_element.tag == \"Note\":\n",
    "                        for note_element in seq_element.getchildren():\n",
    "                            if note_element.tag == \"Label\":\n",
    "                                noteLabels.append(note_element.text)\n",
    "                            elif note_element.tag == \"Position\":\n",
    "                                notePositions.append(note_element.text)\n",
    "                            elif note_element.tag == \"Length\":\n",
    "                                noteLengths.append(note_element.text)\n",
    "                song_df.loc[len(song_df)] = [\n",
    "                    bird,\n",
    "                    input_loc + bird + \"/Wave/\" + WaveFileName,\n",
    "                    WaveFileName,\n",
    "                    position,\n",
    "                    length,\n",
    "                    NumNote,\n",
    "                    notePositions,\n",
    "                    noteLengths,\n",
    "                    noteLabels,\n",
    "                ]\n",
    "    # we cant parse anything about datetime from these wavs so we just make something up\n",
    "    wav_times = Koumura_Okanoya_wavtimes(wav_list)\n",
    "    \n",
    "    # Make a pandas dataframe corresponding to the files and datetimes\n",
    "    wav_df = pd.DataFrame.from_dict(\n",
    "        {\n",
    "            \"filename\": wav_list,\n",
    "            \"wav_time\": wav_times,\n",
    "            \"dset\": dset_list,\n",
    "            \"birdname\": bird_names,\n",
    "        }\n",
    "    )    \n",
    "    \n",
    "    return wav_df, song_df"
   ]
  },
  {
   "cell_type": "code",
   "execution_count": 20,
   "metadata": {
    "ExecuteTime": {
     "end_time": "2019-04-24T18:50:25.459074Z",
     "start_time": "2019-04-24T18:48:57.876894Z"
    }
   },
   "outputs": [
    {
     "data": {
      "application/vnd.jupyter.widget-view+json": {
       "model_id": "0a9c4052d4da40c08a841ff6cc5f9953",
       "version_major": 2,
       "version_minor": 0
      },
      "text/plain": [
       "HBox(children=(IntProgress(value=0, max=11), HTML(value='')))"
      ]
     },
     "metadata": {},
     "output_type": "display_data"
    },
    {
     "data": {
      "application/vnd.jupyter.widget-view+json": {
       "model_id": "",
       "version_major": 2,
       "version_minor": 0
      },
      "text/plain": [
       "HBox(children=(IntProgress(value=0, max=1964), HTML(value='')))"
      ]
     },
     "metadata": {},
     "output_type": "display_data"
    },
    {
     "data": {
      "application/vnd.jupyter.widget-view+json": {
       "model_id": "",
       "version_major": 2,
       "version_minor": 0
      },
      "text/plain": [
       "HBox(children=(IntProgress(value=0, max=2110), HTML(value='')))"
      ]
     },
     "metadata": {},
     "output_type": "display_data"
    },
    {
     "data": {
      "application/vnd.jupyter.widget-view+json": {
       "model_id": "",
       "version_major": 2,
       "version_minor": 0
      },
      "text/plain": [
       "HBox(children=(IntProgress(value=0, max=1351), HTML(value='')))"
      ]
     },
     "metadata": {},
     "output_type": "display_data"
    },
    {
     "data": {
      "application/vnd.jupyter.widget-view+json": {
       "model_id": "",
       "version_major": 2,
       "version_minor": 0
      },
      "text/plain": [
       "HBox(children=(IntProgress(value=0, max=1486), HTML(value='')))"
      ]
     },
     "metadata": {},
     "output_type": "display_data"
    },
    {
     "data": {
      "application/vnd.jupyter.widget-view+json": {
       "model_id": "",
       "version_major": 2,
       "version_minor": 0
      },
      "text/plain": [
       "HBox(children=(IntProgress(value=0, max=412), HTML(value='')))"
      ]
     },
     "metadata": {},
     "output_type": "display_data"
    },
    {
     "data": {
      "application/vnd.jupyter.widget-view+json": {
       "model_id": "",
       "version_major": 2,
       "version_minor": 0
      },
      "text/plain": [
       "HBox(children=(IntProgress(value=0, max=572), HTML(value='')))"
      ]
     },
     "metadata": {},
     "output_type": "display_data"
    },
    {
     "data": {
      "application/vnd.jupyter.widget-view+json": {
       "model_id": "",
       "version_major": 2,
       "version_minor": 0
      },
      "text/plain": [
       "HBox(children=(IntProgress(value=0, max=419), HTML(value='')))"
      ]
     },
     "metadata": {},
     "output_type": "display_data"
    },
    {
     "data": {
      "application/vnd.jupyter.widget-view+json": {
       "model_id": "",
       "version_major": 2,
       "version_minor": 0
      },
      "text/plain": [
       "HBox(children=(IntProgress(value=0, max=1854), HTML(value='')))"
      ]
     },
     "metadata": {},
     "output_type": "display_data"
    },
    {
     "data": {
      "application/vnd.jupyter.widget-view+json": {
       "model_id": "",
       "version_major": 2,
       "version_minor": 0
      },
      "text/plain": [
       "HBox(children=(IntProgress(value=0, max=1495), HTML(value='')))"
      ]
     },
     "metadata": {},
     "output_type": "display_data"
    },
    {
     "data": {
      "application/vnd.jupyter.widget-view+json": {
       "model_id": "",
       "version_major": 2,
       "version_minor": 0
      },
      "text/plain": [
       "HBox(children=(IntProgress(value=0, max=2501), HTML(value='')))"
      ]
     },
     "metadata": {},
     "output_type": "display_data"
    },
    {
     "data": {
      "application/vnd.jupyter.widget-view+json": {
       "model_id": "",
       "version_major": 2,
       "version_minor": 0
      },
      "text/plain": [
       "HBox(children=(IntProgress(value=0, max=1238), HTML(value='')))"
      ]
     },
     "metadata": {},
     "output_type": "display_data"
    },
    {
     "name": "stdout",
     "output_type": "stream",
     "text": [
      "\n"
     ]
    }
   ],
   "source": [
    "wav_df, song_df = Koumura_Okanoya_parser(bird_xml_locs, wav_list)"
   ]
  },
  {
   "cell_type": "code",
   "execution_count": 21,
   "metadata": {
    "ExecuteTime": {
     "end_time": "2019-04-24T18:58:52.328232Z",
     "start_time": "2019-04-24T18:58:51.952626Z"
    }
   },
   "outputs": [
    {
     "data": {
      "text/html": [
       "<div>\n",
       "<style scoped>\n",
       "    .dataframe tbody tr th:only-of-type {\n",
       "        vertical-align: middle;\n",
       "    }\n",
       "\n",
       "    .dataframe tbody tr th {\n",
       "        vertical-align: top;\n",
       "    }\n",
       "\n",
       "    .dataframe thead th {\n",
       "        text-align: right;\n",
       "    }\n",
       "</style>\n",
       "<table border=\"1\" class=\"dataframe\">\n",
       "  <thead>\n",
       "    <tr style=\"text-align: right;\">\n",
       "      <th></th>\n",
       "      <th>bird</th>\n",
       "      <th>WavLoc</th>\n",
       "      <th>WaveFileName</th>\n",
       "      <th>Position</th>\n",
       "      <th>Length</th>\n",
       "      <th>NumNote</th>\n",
       "      <th>NotePositions</th>\n",
       "      <th>NoteLengths</th>\n",
       "      <th>NoteLabels</th>\n",
       "    </tr>\n",
       "  </thead>\n",
       "  <tbody>\n",
       "    <tr>\n",
       "      <th>0</th>\n",
       "      <td>Bird4</td>\n",
       "      <td>/mnt/cube/Datasets/BengaleseFinch/Koumura_Okan...</td>\n",
       "      <td>0.wav</td>\n",
       "      <td>32000</td>\n",
       "      <td>60880</td>\n",
       "      <td>13</td>\n",
       "      <td>[5056, 10240, 15648, 26240, 29760, 33952, 3708...</td>\n",
       "      <td>[2304, 2464, 2848, 2848, 1696, 2336, 2528, 265...</td>\n",
       "      <td>[0, 0, 0, 0, 1, 2, 2, 2, 2, 2, 2, 2, 2]</td>\n",
       "    </tr>\n",
       "    <tr>\n",
       "      <th>1</th>\n",
       "      <td>Bird4</td>\n",
       "      <td>/mnt/cube/Datasets/BengaleseFinch/Koumura_Okan...</td>\n",
       "      <td>0.wav</td>\n",
       "      <td>92880</td>\n",
       "      <td>56064</td>\n",
       "      <td>14</td>\n",
       "      <td>[512, 4288, 8480, 12896, 17888, 23168, 28096, ...</td>\n",
       "      <td>[2848, 3008, 2880, 2336, 2240, 2944, 3264, 176...</td>\n",
       "      <td>[3, 3, 3, 4, 4, 0, 0, 1, 2, 2, 2, 2, 2, 2]</td>\n",
       "    </tr>\n",
       "    <tr>\n",
       "      <th>2</th>\n",
       "      <td>Bird4</td>\n",
       "      <td>/mnt/cube/Datasets/BengaleseFinch/Koumura_Okan...</td>\n",
       "      <td>0.wav</td>\n",
       "      <td>152624</td>\n",
       "      <td>51312</td>\n",
       "      <td>13</td>\n",
       "      <td>[704, 5248, 10240, 15520, 19456, 22112, 25856,...</td>\n",
       "      <td>[2880, 2496, 2304, 3264, 1920, 2912, 2752, 262...</td>\n",
       "      <td>[3, 4, 4, 0, 1, 2, 2, 2, 2, 3, 3, 3, 3]</td>\n",
       "    </tr>\n",
       "  </tbody>\n",
       "</table>\n",
       "</div>"
      ],
      "text/plain": [
       "    bird                                             WavLoc WaveFileName  \\\n",
       "0  Bird4  /mnt/cube/Datasets/BengaleseFinch/Koumura_Okan...        0.wav   \n",
       "1  Bird4  /mnt/cube/Datasets/BengaleseFinch/Koumura_Okan...        0.wav   \n",
       "2  Bird4  /mnt/cube/Datasets/BengaleseFinch/Koumura_Okan...        0.wav   \n",
       "\n",
       "  Position Length NumNote                                      NotePositions  \\\n",
       "0    32000  60880      13  [5056, 10240, 15648, 26240, 29760, 33952, 3708...   \n",
       "1    92880  56064      14  [512, 4288, 8480, 12896, 17888, 23168, 28096, ...   \n",
       "2   152624  51312      13  [704, 5248, 10240, 15520, 19456, 22112, 25856,...   \n",
       "\n",
       "                                         NoteLengths  \\\n",
       "0  [2304, 2464, 2848, 2848, 1696, 2336, 2528, 265...   \n",
       "1  [2848, 3008, 2880, 2336, 2240, 2944, 3264, 176...   \n",
       "2  [2880, 2496, 2304, 3264, 1920, 2912, 2752, 262...   \n",
       "\n",
       "                                   NoteLabels  \n",
       "0     [0, 0, 0, 0, 1, 2, 2, 2, 2, 2, 2, 2, 2]  \n",
       "1  [3, 3, 3, 4, 4, 0, 0, 1, 2, 2, 2, 2, 2, 2]  \n",
       "2     [3, 4, 4, 0, 1, 2, 2, 2, 2, 3, 3, 3, 3]  "
      ]
     },
     "execution_count": 21,
     "metadata": {},
     "output_type": "execute_result"
    }
   ],
   "source": [
    "song_df[:3]"
   ]
  },
  {
   "cell_type": "markdown",
   "metadata": {},
   "source": [
    "### Parameters for processing vocalizations\n",
    "- ***These will almost certainly need to be set based upon species and the quality of your vocalizations***"
   ]
  },
  {
   "cell_type": "code",
   "execution_count": 39,
   "metadata": {
    "ExecuteTime": {
     "end_time": "2019-04-24T19:12:27.932144Z",
     "start_time": "2019-04-24T19:12:27.879640Z"
    }
   },
   "outputs": [],
   "source": [
    "param_dict = {}\n",
    "\n",
    "# parameters for\n",
    "spectrogram_params = {\n",
    "    # FFT (we create a spectrogram here to filter out noise)\n",
    "    \"num_freq\": 1024,  # how many channels to use in a spectrogram\n",
    "    \"sample_rate\": 44100,  # what rate are your WAVs sampled at?\n",
    "    \"preemphasis\": 0.97,\n",
    "    \"ref_level_db\": 20,  # reference db for computing spec\n",
    "    \"min_level_db\": -50,  # threshold for spectrograms (lower filters out more noise)\n",
    "    \"frame_shift_ms\": 20,  # step size for fft\n",
    "    \"frame_length_ms\": 40,  # frame length for fft\n",
    "}\n",
    "\n",
    "# parameters for filtering bouts vs noise\n",
    "bout_filtering_hyperparams = {\n",
    "    # filtering\n",
    "    \"min_amp_val\": 1000,  # the minimum value of a wav's amplitude to be considered containing any sound\n",
    "    \"min_segment_length_s\": 1.0,  # How long a bout has to be to count\n",
    "    \"max_segment_length_s\": 200.0,  # If a bout is too long, dont count it\n",
    "    \"min_silence_pct\": 0.05,  # measure of noise in wav, by threshing the pct of time that the wav is silent\n",
    "    \"vocal_range_Hz\": [700, 15000],  # expected range of frequencies for vocalization\n",
    "}\n",
    "\n",
    "signal_filter_params = {\n",
    "    \"lowcut\": 50,  # Hz # Low cut for our butter bandpass filter\n",
    "    \"highcut\": 15000,  # Hz # High cut for our butter bandpass filter\n",
    "    \"rms_window\": 0.01,  # seconds # the size of your window\n",
    "    \"rms_stride\": 0.01,  # seconds # how big your step size should be for moving the filter\n",
    "    \"noise_thresh\": 0.01,  # threshold percent of maximum noise to consider silence\n",
    "    \"segment_padding\": 4.0,  # seconds to pad waveform extracted\n",
    "    \"rms_padding\": 1.0,  # seconds # how much to pad around vocalizations\n",
    "}\n",
    "\n",
    "param_dict[\"BF\"] = {}\n",
    "\n",
    "for d in [spectrogram_params, bout_filtering_hyperparams, signal_filter_params]:\n",
    "    for k, v in d.items():\n",
    "        param_dict[\"BF\"][k] = v"
   ]
  },
  {
   "cell_type": "code",
   "execution_count": 40,
   "metadata": {
    "ExecuteTime": {
     "end_time": "2019-04-24T19:12:28.408096Z",
     "start_time": "2019-04-24T19:12:28.358538Z"
    }
   },
   "outputs": [
    {
     "name": "stdout",
     "output_type": "stream",
     "text": [
      "BF Bird0 135\n",
      "BF Bird1 315\n",
      "BF Bird10 94\n",
      "BF Bird2 339\n",
      "BF Bird3 402\n",
      "BF Bird4 441\n",
      "BF Bird5 335\n",
      "BF Bird6 235\n",
      "BF Bird7 310\n",
      "BF Bird8 142\n",
      "BF Bird9 217\n"
     ]
    },
    {
     "name": "stderr",
     "output_type": "stream",
     "text": [
      "/mnt/cube/tsainbur/conda_envs/tpy3/lib/python3.6/site-packages/ipykernel_launcher.py:2: FutureWarning: Interpreting tuple 'by' as a list of keys, rather than a single key. Use 'by=[...]' instead of 'by=(...)'. In the future, a tuple will always mean a single key.\n",
      "  \n"
     ]
    }
   ],
   "source": [
    "# print the number of wav files found for each individual\n",
    "for (dset, bird), group in wav_df.groupby((\"dset\", \"birdname\")):\n",
    "    print(dset, bird, len(group))"
   ]
  },
  {
   "cell_type": "markdown",
   "metadata": {},
   "source": [
    "#### Parameters for debugging / speed of preprocessing"
   ]
  },
  {
   "cell_type": "code",
   "execution_count": 55,
   "metadata": {
    "ExecuteTime": {
     "end_time": "2019-04-24T19:21:32.548248Z",
     "start_time": "2019-04-24T19:21:32.176196Z"
    }
   },
   "outputs": [],
   "source": [
    "skip_created = True # whether to skip song that has already been processed\n",
    "parallel = True # whether to run this algorithm in parallel (across wav files)\n",
    "visualize = False # whether to output visualizations of spectrograms to the notebook screen - this is useful for setting parameters - you may also want to edit the code to visualized other aspects of the algorithm\n",
    "n_parallel = 10 # How many threads to run in parallel (if parallel == True)\n",
    "verbosity = 1 # how verbose to make the output of the parallelization (higher = more, 0 = none, >50 output is sent to std.out)\n",
    "verbose=True"
   ]
  },
  {
   "cell_type": "code",
   "execution_count": 66,
   "metadata": {
    "ExecuteTime": {
     "end_time": "2019-04-25T23:59:49.873402Z",
     "start_time": "2019-04-25T23:59:49.502193Z"
    }
   },
   "outputs": [],
   "source": [
    "species = 'BF'\n",
    "dataset = \"Koumura_Okanoya\"\n",
    "# Where to put the final HDF5 files\n",
    "save_to_folder = DATA_DIR / species / dataset / 'bouts' \n",
    "# whether or not to save spectrogram PNGs to the save_to_folder to visually inspect whether the song segmentation algorithm works\n",
    "save_spectrograms = True "
   ]
  },
  {
   "cell_type": "code",
   "execution_count": 58,
   "metadata": {
    "ExecuteTime": {
     "end_time": "2019-04-24T19:25:01.422867Z",
     "start_time": "2019-04-24T19:23:21.369908Z"
    },
    "code_folding": [],
    "scrolled": true
   },
   "outputs": [
    {
     "name": "stderr",
     "output_type": "stream",
     "text": [
      "/mnt/cube/tsainbur/conda_envs/tpy3/lib/python3.6/site-packages/ipykernel_launcher.py:4: FutureWarning: Interpreting tuple 'by' as a list of keys, rather than a single key. Use 'by=[...]' instead of 'by=(...)'. In the future, a tuple will always mean a single key.\n",
      "  after removing the cwd from sys.path.\n"
     ]
    },
    {
     "data": {
      "application/vnd.jupyter.widget-view+json": {
       "model_id": "3cf964d7c447402882826cc6ae1aec3d",
       "version_major": 2,
       "version_minor": 0
      },
      "text/plain": [
       "HBox(children=(IntProgress(value=0, max=11), HTML(value='')))"
      ]
     },
     "metadata": {},
     "output_type": "display_data"
    },
    {
     "name": "stdout",
     "output_type": "stream",
     "text": [
      "processing Bird0 to save at /mnt/cube/tsainbur/Projects/github_repos/AVGN_419/AVGN/data/bf_wav\n",
      "total wavs:  135\n"
     ]
    },
    {
     "data": {
      "application/vnd.jupyter.widget-view+json": {
       "model_id": "0d192f8fd7124eacb1b0a3c7aeba7c2a",
       "version_major": 2,
       "version_minor": 0
      },
      "text/plain": [
       "HBox(children=(IntProgress(value=0, max=135), HTML(value='')))"
      ]
     },
     "metadata": {},
     "output_type": "display_data"
    },
    {
     "name": "stderr",
     "output_type": "stream",
     "text": [
      "[Parallel(n_jobs=10)]: Using backend LokyBackend with 10 concurrent workers.\n",
      "[Parallel(n_jobs=10)]: Done  30 tasks      | elapsed:    6.7s\n"
     ]
    },
    {
     "name": "stdout",
     "output_type": "stream",
     "text": [
      "processing Bird1 to save at /mnt/cube/tsainbur/Projects/github_repos/AVGN_419/AVGN/data/bf_wav\n",
      "total wavs:  315\n"
     ]
    },
    {
     "name": "stderr",
     "output_type": "stream",
     "text": [
      "[Parallel(n_jobs=10)]: Done 135 out of 135 | elapsed:    8.0s finished\n"
     ]
    },
    {
     "data": {
      "application/vnd.jupyter.widget-view+json": {
       "model_id": "c7f8cf7aa8124b86bc872bb417003ac4",
       "version_major": 2,
       "version_minor": 0
      },
      "text/plain": [
       "HBox(children=(IntProgress(value=0, max=315), HTML(value='')))"
      ]
     },
     "metadata": {},
     "output_type": "display_data"
    },
    {
     "name": "stderr",
     "output_type": "stream",
     "text": [
      "[Parallel(n_jobs=10)]: Using backend LokyBackend with 10 concurrent workers.\n",
      "[Parallel(n_jobs=10)]: Done  60 tasks      | elapsed:    1.1s\n"
     ]
    },
    {
     "name": "stdout",
     "output_type": "stream",
     "text": [
      "processing Bird10 to save at /mnt/cube/tsainbur/Projects/github_repos/AVGN_419/AVGN/data/bf_wav\n",
      "total wavs:  94\n"
     ]
    },
    {
     "name": "stderr",
     "output_type": "stream",
     "text": [
      "[Parallel(n_jobs=10)]: Done 296 out of 315 | elapsed:    5.8s remaining:    0.4s\n",
      "[Parallel(n_jobs=10)]: Done 315 out of 315 | elapsed:    6.0s finished\n"
     ]
    },
    {
     "data": {
      "application/vnd.jupyter.widget-view+json": {
       "model_id": "4de64d845a324966b8017834db25c54d",
       "version_major": 2,
       "version_minor": 0
      },
      "text/plain": [
       "HBox(children=(IntProgress(value=0, max=94), HTML(value='')))"
      ]
     },
     "metadata": {},
     "output_type": "display_data"
    },
    {
     "name": "stderr",
     "output_type": "stream",
     "text": [
      "[Parallel(n_jobs=10)]: Using backend LokyBackend with 10 concurrent workers.\n"
     ]
    },
    {
     "name": "stdout",
     "output_type": "stream",
     "text": [
      "processing Bird2 to save at /mnt/cube/tsainbur/Projects/github_repos/AVGN_419/AVGN/data/bf_wav\n",
      "total wavs:  339\n"
     ]
    },
    {
     "name": "stderr",
     "output_type": "stream",
     "text": [
      "[Parallel(n_jobs=10)]: Done  94 out of  94 | elapsed:    1.1s finished\n"
     ]
    },
    {
     "data": {
      "application/vnd.jupyter.widget-view+json": {
       "model_id": "96606147fb554e6a88fcc56afd082c80",
       "version_major": 2,
       "version_minor": 0
      },
      "text/plain": [
       "HBox(children=(IntProgress(value=0, max=339), HTML(value='')))"
      ]
     },
     "metadata": {},
     "output_type": "display_data"
    },
    {
     "name": "stderr",
     "output_type": "stream",
     "text": [
      "[Parallel(n_jobs=10)]: Using backend LokyBackend with 10 concurrent workers.\n",
      "[Parallel(n_jobs=10)]: Done 100 tasks      | elapsed:    1.5s\n"
     ]
    },
    {
     "name": "stdout",
     "output_type": "stream",
     "text": [
      "processing Bird3 to save at /mnt/cube/tsainbur/Projects/github_repos/AVGN_419/AVGN/data/bf_wav\n",
      "total wavs:  402\n"
     ]
    },
    {
     "name": "stderr",
     "output_type": "stream",
     "text": [
      "[Parallel(n_jobs=10)]: Done 339 out of 339 | elapsed:    4.6s finished\n"
     ]
    },
    {
     "data": {
      "application/vnd.jupyter.widget-view+json": {
       "model_id": "b76138bef0a64dbebd9192ed4ef07491",
       "version_major": 2,
       "version_minor": 0
      },
      "text/plain": [
       "HBox(children=(IntProgress(value=0, max=402), HTML(value='')))"
      ]
     },
     "metadata": {},
     "output_type": "display_data"
    },
    {
     "name": "stderr",
     "output_type": "stream",
     "text": [
      "[Parallel(n_jobs=10)]: Using backend LokyBackend with 10 concurrent workers.\n",
      "[Parallel(n_jobs=10)]: Done  60 tasks      | elapsed:    0.9s\n"
     ]
    },
    {
     "name": "stdout",
     "output_type": "stream",
     "text": [
      "processing Bird4 to save at /mnt/cube/tsainbur/Projects/github_repos/AVGN_419/AVGN/data/bf_wav\n",
      "total wavs:  441\n"
     ]
    },
    {
     "name": "stderr",
     "output_type": "stream",
     "text": [
      "[Parallel(n_jobs=10)]: Done 402 out of 402 | elapsed:    4.8s finished\n"
     ]
    },
    {
     "data": {
      "application/vnd.jupyter.widget-view+json": {
       "model_id": "ac0df6403b0f4fdc903639573279e6cf",
       "version_major": 2,
       "version_minor": 0
      },
      "text/plain": [
       "HBox(children=(IntProgress(value=0, max=441), HTML(value='')))"
      ]
     },
     "metadata": {},
     "output_type": "display_data"
    },
    {
     "name": "stderr",
     "output_type": "stream",
     "text": [
      "[Parallel(n_jobs=10)]: Using backend LokyBackend with 10 concurrent workers.\n",
      "[Parallel(n_jobs=10)]: Done  80 tasks      | elapsed:    3.0s\n",
      "[Parallel(n_jobs=10)]: Done 362 tasks      | elapsed:   14.0s\n"
     ]
    },
    {
     "name": "stdout",
     "output_type": "stream",
     "text": [
      "processing Bird5 to save at /mnt/cube/tsainbur/Projects/github_repos/AVGN_419/AVGN/data/bf_wav\n",
      "total wavs:  335\n"
     ]
    },
    {
     "name": "stderr",
     "output_type": "stream",
     "text": [
      "[Parallel(n_jobs=10)]: Done 441 out of 441 | elapsed:   17.7s finished\n"
     ]
    },
    {
     "data": {
      "application/vnd.jupyter.widget-view+json": {
       "model_id": "be905305e8c449cf9ccbd244e70732ae",
       "version_major": 2,
       "version_minor": 0
      },
      "text/plain": [
       "HBox(children=(IntProgress(value=0, max=335), HTML(value='')))"
      ]
     },
     "metadata": {},
     "output_type": "display_data"
    },
    {
     "name": "stderr",
     "output_type": "stream",
     "text": [
      "[Parallel(n_jobs=10)]: Using backend LokyBackend with 10 concurrent workers.\n",
      "[Parallel(n_jobs=10)]: Done  30 tasks      | elapsed:    1.8s\n",
      "[Parallel(n_jobs=10)]: Done 180 tasks      | elapsed:    8.8s\n"
     ]
    },
    {
     "name": "stdout",
     "output_type": "stream",
     "text": [
      "processing Bird6 to save at /mnt/cube/tsainbur/Projects/github_repos/AVGN_419/AVGN/data/bf_wav\n",
      "total wavs:  235\n"
     ]
    },
    {
     "name": "stderr",
     "output_type": "stream",
     "text": [
      "[Parallel(n_jobs=10)]: Done 335 out of 335 | elapsed:   16.4s finished\n"
     ]
    },
    {
     "data": {
      "application/vnd.jupyter.widget-view+json": {
       "model_id": "3140beaa46bf48709d66045a90df783d",
       "version_major": 2,
       "version_minor": 0
      },
      "text/plain": [
       "HBox(children=(IntProgress(value=0, max=235), HTML(value='')))"
      ]
     },
     "metadata": {},
     "output_type": "display_data"
    },
    {
     "name": "stderr",
     "output_type": "stream",
     "text": [
      "[Parallel(n_jobs=10)]: Using backend LokyBackend with 10 concurrent workers.\n",
      "[Parallel(n_jobs=10)]: Done  30 tasks      | elapsed:    2.1s\n",
      "[Parallel(n_jobs=10)]: Done 180 tasks      | elapsed:   11.2s\n"
     ]
    },
    {
     "name": "stdout",
     "output_type": "stream",
     "text": [
      "processing Bird7 to save at /mnt/cube/tsainbur/Projects/github_repos/AVGN_419/AVGN/data/bf_wav\n",
      "total wavs:  310\n"
     ]
    },
    {
     "name": "stderr",
     "output_type": "stream",
     "text": [
      "[Parallel(n_jobs=10)]: Done 235 out of 235 | elapsed:   14.2s finished\n"
     ]
    },
    {
     "data": {
      "application/vnd.jupyter.widget-view+json": {
       "model_id": "ae21c114c8984859a1ee9635a094517b",
       "version_major": 2,
       "version_minor": 0
      },
      "text/plain": [
       "HBox(children=(IntProgress(value=0, max=310), HTML(value='')))"
      ]
     },
     "metadata": {},
     "output_type": "display_data"
    },
    {
     "name": "stderr",
     "output_type": "stream",
     "text": [
      "[Parallel(n_jobs=10)]: Using backend LokyBackend with 10 concurrent workers.\n",
      "[Parallel(n_jobs=10)]: Done  40 tasks      | elapsed:    1.6s\n"
     ]
    },
    {
     "name": "stdout",
     "output_type": "stream",
     "text": [
      "processing Bird8 to save at /mnt/cube/tsainbur/Projects/github_repos/AVGN_419/AVGN/data/bf_wav\n",
      "total wavs:  142\n"
     ]
    },
    {
     "name": "stderr",
     "output_type": "stream",
     "text": [
      "[Parallel(n_jobs=10)]: Done 310 out of 310 | elapsed:    9.2s finished\n"
     ]
    },
    {
     "data": {
      "application/vnd.jupyter.widget-view+json": {
       "model_id": "700054fdd75e43bfb1587071ddf156ab",
       "version_major": 2,
       "version_minor": 0
      },
      "text/plain": [
       "HBox(children=(IntProgress(value=0, max=142), HTML(value='')))"
      ]
     },
     "metadata": {},
     "output_type": "display_data"
    },
    {
     "name": "stderr",
     "output_type": "stream",
     "text": [
      "[Parallel(n_jobs=10)]: Using backend LokyBackend with 10 concurrent workers.\n",
      "[Parallel(n_jobs=10)]: Done  60 tasks      | elapsed:    3.1s\n"
     ]
    },
    {
     "name": "stdout",
     "output_type": "stream",
     "text": [
      "processing Bird9 to save at /mnt/cube/tsainbur/Projects/github_repos/AVGN_419/AVGN/data/bf_wav\n",
      "total wavs:  217\n"
     ]
    },
    {
     "name": "stderr",
     "output_type": "stream",
     "text": [
      "[Parallel(n_jobs=10)]: Done 142 out of 142 | elapsed:    6.6s finished\n"
     ]
    },
    {
     "data": {
      "application/vnd.jupyter.widget-view+json": {
       "model_id": "ee132da4b135482eaf875ec3d65945fb",
       "version_major": 2,
       "version_minor": 0
      },
      "text/plain": [
       "HBox(children=(IntProgress(value=0, max=217), HTML(value='')))"
      ]
     },
     "metadata": {},
     "output_type": "display_data"
    },
    {
     "name": "stderr",
     "output_type": "stream",
     "text": [
      "[Parallel(n_jobs=10)]: Using backend LokyBackend with 10 concurrent workers.\n",
      "[Parallel(n_jobs=10)]: Done  40 tasks      | elapsed:    2.3s\n",
      "[Parallel(n_jobs=10)]: Done 217 out of 217 | elapsed:   10.6s finished\n"
     ]
    }
   ],
   "source": [
    "# loop through all wavs,\n",
    "try:\n",
    "    key_list = (\"wav_list\", \"time_index\", \"wav_file\", \"wav_time\", \"rate\")\n",
    "    for (dset, bird), group in tqdm(wav_df.groupby((\"dset\", \"birdname\"))):\n",
    "\n",
    "        print(\"processing %s to save at %s\" % (bird, save_to_folder))\n",
    "        bird_data = {key: [] for key in key_list}\n",
    "\n",
    "        print(\"total wavs: \", len(group))\n",
    "    \n",
    "        # Create a spot to save the data\n",
    "        bird_folder = save_to_folder / bird\n",
    "\n",
    "        if parallel:\n",
    "            with Parallel(n_jobs=n_parallel, verbose=verbosity) as parallel:\n",
    "                parallel(\n",
    "                    delayed(wav_to_bouts.process_bird_wav)(\n",
    "                        bird,\n",
    "                        filename,\n",
    "                        wav_time,\n",
    "                        param_dict[dset],\n",
    "                        save_to_folder,\n",
    "                        visualize=visualize,\n",
    "                        skip_created=skip_created,\n",
    "                        save_spectrograms=save_spectrograms,\n",
    "                        verbose=verbose,\n",
    "                    )\n",
    "                    for idx, filename, wav_time, dset, bird in tqdm(\n",
    "                        group.itertuples(), total=len(group)\n",
    "                    )\n",
    "                )\n",
    "        else:\n",
    "            for idx, filename, wav_time, dset, bird in tqdm(\n",
    "                group.itertuples(), total=len(group),\n",
    "            ):\n",
    "                print(filename)\n",
    "                wav_to_bouts.process_bird_wav(\n",
    "                    bird,\n",
    "                    filename,\n",
    "                    wav_time,\n",
    "                    param_dict[dset],\n",
    "                    save_to_folder,\n",
    "                    visualize=visualize,\n",
    "                    skip_created=skip_created,\n",
    "                    save_spectrograms=save_spectrograms,\n",
    "                    verbose=verbose,\n",
    "                )\n",
    "except KeyboardInterrupt:\n",
    "    print(\"interrrupted\")"
   ]
  },
  {
   "cell_type": "code",
   "execution_count": null,
   "metadata": {},
   "outputs": [],
   "source": []
  }
 ],
 "metadata": {
  "kernelspec": {
   "display_name": "Python 3",
   "language": "python",
   "name": "python3"
  },
  "language_info": {
   "codemirror_mode": {
    "name": "ipython",
    "version": 3
   },
   "file_extension": ".py",
   "mimetype": "text/x-python",
   "name": "python",
   "nbconvert_exporter": "python",
   "pygments_lexer": "ipython3",
   "version": "3.6.8"
  },
  "toc": {
   "base_numbering": 1,
   "nav_menu": {},
   "number_sections": true,
   "sideBar": true,
   "skip_h1_title": false,
   "title_cell": "Table of Contents",
   "title_sidebar": "Contents",
   "toc_cell": false,
   "toc_position": {},
   "toc_section_display": true,
   "toc_window_display": false
  }
 },
 "nbformat": 4,
 "nbformat_minor": 2
}
