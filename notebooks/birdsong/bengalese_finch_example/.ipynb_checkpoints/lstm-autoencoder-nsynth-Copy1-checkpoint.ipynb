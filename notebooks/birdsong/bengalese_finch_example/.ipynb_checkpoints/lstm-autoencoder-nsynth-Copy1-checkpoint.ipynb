{
 "cells": [
  {
   "cell_type": "code",
   "execution_count": 1,
   "metadata": {
    "ExecuteTime": {
     "end_time": "2019-05-06T23:06:05.845115Z",
     "start_time": "2019-05-06T23:06:05.817403Z"
    }
   },
   "outputs": [
    {
     "name": "stdout",
     "output_type": "stream",
     "text": [
      "env: CUDA_DEVICE_ORDER=PCI_BUS_ID\n",
      "env: CUDA_VISIBLE_DEVICES=1\n"
     ]
    }
   ],
   "source": [
    "%load_ext autoreload\n",
    "%autoreload 2\n",
    "\n",
    "%env CUDA_DEVICE_ORDER=PCI_BUS_ID\n",
    "%env CUDA_VISIBLE_DEVICES=1"
   ]
  },
  {
   "cell_type": "code",
   "execution_count": 2,
   "metadata": {
    "ExecuteTime": {
     "end_time": "2019-05-06T23:06:11.448402Z",
     "start_time": "2019-05-06T23:06:05.847862Z"
    }
   },
   "outputs": [
    {
     "name": "stderr",
     "output_type": "stream",
     "text": [
      "/mnt/cube/tsainbur/conda_envs/tpy3/lib/python3.6/site-packages/tqdm/autonotebook/__init__.py:14: TqdmExperimentalWarning: Using `tqdm.autonotebook.tqdm` in notebook mode. Use `tqdm.tqdm` instead to force console mode (e.g. in jupyter console)\n",
      "  \" (e.g. in jupyter console)\", TqdmExperimentalWarning)\n"
     ]
    }
   ],
   "source": [
    "import matplotlib.pyplot as plt\n",
    "%matplotlib inline\n",
    "from IPython import display\n",
    "from tqdm.autonotebook import tqdm\n",
    "\n",
    "import numpy as np\n",
    "import tensorflow as tf\n",
    "from avgn.utils.paths import DATA_DIR\n",
    "\n",
    "from avgn.datasets.nsynth import HParams, NSynthDataset\n",
    "from avgn.networks.ae import AE"
   ]
  },
  {
   "cell_type": "markdown",
   "metadata": {},
   "source": [
    "### define hparams"
   ]
  },
  {
   "cell_type": "code",
   "execution_count": 3,
   "metadata": {
    "ExecuteTime": {
     "end_time": "2019-05-06T23:06:11.631721Z",
     "start_time": "2019-05-06T23:06:11.450402Z"
    }
   },
   "outputs": [],
   "source": [
    "hparams = HParams(  \n",
    "    batch_size = 32,\n",
    "    win_length = 1024,\n",
    "    n_fft = 1024,\n",
    "    hop_length=400,\n",
    "    ref_level_db = 20,\n",
    "    min_level_db = -50,\n",
    "    power = 1, # for spectral inversion\n",
    "    griffin_lim_iters = 50,\n",
    "    spectrogram = True,\n",
    "    #pad=True,\n",
    "    mel = True,\n",
    "    mfcc = False,\n",
    "    mel_matrix_dict = {\n",
    "        'num_mel_bins': 32,\n",
    "        'num_spectrogram_bins' : 513,\n",
    "        'sample_rate' : 16000,\n",
    "        'lower_edge_hertz':125.0,\n",
    "        'upper_edge_hertz':3800.0,\n",
    "    }\n",
    ")"
   ]
  },
  {
   "cell_type": "markdown",
   "metadata": {},
   "source": [
    "### Get dataset"
   ]
  },
  {
   "cell_type": "code",
   "execution_count": 4,
   "metadata": {
    "ExecuteTime": {
     "end_time": "2019-05-06T23:06:11.748363Z",
     "start_time": "2019-05-06T23:06:11.633937Z"
    }
   },
   "outputs": [],
   "source": [
    "training_tfrecords = list((DATA_DIR / \"tensorflow_datasets\"/\"nsynth\").glob('**/*train.tfrecord*'))"
   ]
  },
  {
   "cell_type": "code",
   "execution_count": 5,
   "metadata": {
    "ExecuteTime": {
     "end_time": "2019-05-06T23:06:17.313900Z",
     "start_time": "2019-05-06T23:06:11.750273Z"
    }
   },
   "outputs": [],
   "source": [
    "dset = NSynthDataset([str(i) for i in training_tfrecords], hparams, num_parallel_calls = 24)"
   ]
  },
  {
   "cell_type": "code",
   "execution_count": 6,
   "metadata": {
    "ExecuteTime": {
     "end_time": "2019-05-06T23:06:17.524167Z",
     "start_time": "2019-05-06T23:06:17.316755Z"
    }
   },
   "outputs": [],
   "source": [
    "exs = iter(dset.dataset_batch)\n",
    "ex = next(exs)\n",
    "spec_ex = ex['spectrogram'].numpy()[0]"
   ]
  },
  {
   "cell_type": "code",
   "execution_count": 7,
   "metadata": {
    "ExecuteTime": {
     "end_time": "2019-05-06T23:06:17.597311Z",
     "start_time": "2019-05-06T23:06:17.527575Z"
    }
   },
   "outputs": [
    {
     "data": {
      "text/plain": [
       "(160, 32)"
      ]
     },
     "execution_count": 7,
     "metadata": {},
     "output_type": "execute_result"
    }
   ],
   "source": [
    "np.shape(spec_ex)"
   ]
  },
  {
   "cell_type": "code",
   "execution_count": 8,
   "metadata": {
    "ExecuteTime": {
     "end_time": "2019-05-06T23:06:17.884528Z",
     "start_time": "2019-05-06T23:06:17.599181Z"
    }
   },
   "outputs": [],
   "source": [
    "example_data = tf.expand_dims(next(iter(dset.dataset_batch))['spectrogram'], axis=3)"
   ]
  },
  {
   "cell_type": "code",
   "execution_count": 9,
   "metadata": {
    "ExecuteTime": {
     "end_time": "2019-05-06T23:06:18.479100Z",
     "start_time": "2019-05-06T23:06:17.886793Z"
    }
   },
   "outputs": [
    {
     "data": {
      "text/plain": [
       "<matplotlib.colorbar.Colorbar at 0x7ff4a81bcc50>"
      ]
     },
     "execution_count": 9,
     "metadata": {},
     "output_type": "execute_result"
    },
    {
     "data": {
      "image/png": "[encoded data removed]",
      "text/plain": [
       "<Figure size 864x432 with 2 Axes>"
      ]
     },
     "metadata": {
      "needs_background": "light"
     },
     "output_type": "display_data"
    }
   ],
   "source": [
    "fig, ax = plt.subplots(ncols=1, figsize=(12,6))\n",
    "cset1 = ax.matshow(np.squeeze(example_data.numpy()[0]).T, aspect='auto', origin='lower')\n",
    "fig.colorbar(cset1, ax=ax)"
   ]
  },
  {
   "cell_type": "code",
   "execution_count": 10,
   "metadata": {
    "ExecuteTime": {
     "end_time": "2019-05-06T23:06:18.565548Z",
     "start_time": "2019-05-06T23:06:18.481677Z"
    }
   },
   "outputs": [
    {
     "data": {
      "text/plain": [
       "[32, 160, 32, 1]"
      ]
     },
     "execution_count": 10,
     "metadata": {},
     "output_type": "execute_result"
    }
   ],
   "source": [
    "list(example_data.shape)"
   ]
  },
  {
   "cell_type": "markdown",
   "metadata": {},
   "source": [
    "### Make network"
   ]
  },
  {
   "cell_type": "code",
   "execution_count": 11,
   "metadata": {
    "ExecuteTime": {
     "end_time": "2019-05-06T23:06:18.711112Z",
     "start_time": "2019-05-06T23:06:18.578929Z"
    }
   },
   "outputs": [],
   "source": [
    "from tensorflow.keras.layers import (\n",
    "    RepeatVector,\n",
    "    Dense,\n",
    "    TimeDistributed,\n",
    "    Conv1D,\n",
    "    Conv2D,\n",
    "    Reshape,\n",
    "    Bidirectional\n",
    ")  # , LSTM\n",
    "from tensorflow.python.keras.layers.recurrent import UnifiedLSTM as LSTM\n",
    "#from tensorflow.keras.layers import CuDNNLSTM as LSTM"
   ]
  },
  {
   "cell_type": "code",
   "execution_count": 12,
   "metadata": {
    "ExecuteTime": {
     "end_time": "2019-05-06T23:06:18.757540Z",
     "start_time": "2019-05-06T23:06:18.713139Z"
    }
   },
   "outputs": [],
   "source": [
    "seq_len = 10 # the number of items in the sequence, which is determined by convolutional downsampling\n",
    "spec_chans_last = 4"
   ]
  },
  {
   "cell_type": "code",
   "execution_count": 13,
   "metadata": {
    "ExecuteTime": {
     "end_time": "2019-05-06T23:06:18.892283Z",
     "start_time": "2019-05-06T23:06:18.759455Z"
    }
   },
   "outputs": [
    {
     "name": "stderr",
     "output_type": "stream",
     "text": [
      "WARNING: Logging before flag parsing goes to stderr.\n",
      "W0506 16:06:18.876088 140692365756160 tf_logging.py:161] <tensorflow.python.keras.layers.recurrent.UnifiedLSTM object at 0x7ff4a80e90f0>: Note that this layer is not optimized for performance. Please use tf.keras.layers.CuDNNLSTM for better performance on GPU.\n",
      "W0506 16:06:18.886038 140692365756160 tf_logging.py:161] <tensorflow.python.keras.layers.recurrent.UnifiedLSTM object at 0x7ff4a80e9780>: Note that this layer is not optimized for performance. Please use tf.keras.layers.CuDNNLSTM for better performance on GPU.\n"
     ]
    }
   ],
   "source": [
    "enc = [\n",
    "        tf.keras.layers.Conv2D(\n",
    "            filters=32,\n",
    "            kernel_size=6,\n",
    "            strides=(4, 2),\n",
    "            activation=\"relu\",\n",
    "            padding=\"same\",\n",
    "        ),\n",
    "        tf.keras.layers.Conv2D(\n",
    "            filters=64,\n",
    "            kernel_size=3,\n",
    "            strides=(2, 2),\n",
    "            activation=\"relu\",\n",
    "            padding=\"same\",\n",
    "        ),\n",
    "        tf.keras.layers.Conv2D(\n",
    "            filters=128,\n",
    "            kernel_size=3,\n",
    "            strides=(2, 2),\n",
    "            activation=\"relu\",\n",
    "            padding=\"same\",\n",
    "        ),\n",
    "        Reshape(target_shape=(seq_len, spec_chans_last*128)),\n",
    "        Bidirectional(LSTM(units=100, activation=\"relu\")),\n",
    "        Dense(units=512)\n",
    "    ]"
   ]
  },
  {
   "cell_type": "code",
   "execution_count": 14,
   "metadata": {
    "ExecuteTime": {
     "end_time": "2019-05-06T23:06:18.983937Z",
     "start_time": "2019-05-06T23:06:18.897814Z"
    }
   },
   "outputs": [
    {
     "name": "stderr",
     "output_type": "stream",
     "text": [
      "W0506 16:06:18.968200 140692365756160 tf_logging.py:161] <tensorflow.python.keras.layers.recurrent.UnifiedLSTM object at 0x7ff5709656d8>: Note that this layer is not optimized for performance. Please use tf.keras.layers.CuDNNLSTM for better performance on GPU.\n",
      "W0506 16:06:18.971806 140692365756160 tf_logging.py:161] <tensorflow.python.keras.layers.recurrent.UnifiedLSTM object at 0x7ff570965cf8>: Note that this layer is not optimized for performance. Please use tf.keras.layers.CuDNNLSTM for better performance on GPU.\n"
     ]
    }
   ],
   "source": [
    "dec = [\n",
    "        Dense(units=512),\n",
    "        RepeatVector(seq_len),\n",
    "        Bidirectional(LSTM(units=100, activation=\"relu\", return_sequences=True)),\n",
    "        TimeDistributed(Dense(spec_chans_last * 128)), # features times the number of filters\n",
    "        Reshape(target_shape=(seq_len, spec_chans_last, 128)),\n",
    "        tf.keras.layers.Conv2DTranspose(\n",
    "            filters=128,\n",
    "            kernel_size=6,\n",
    "            strides=(4, 2),\n",
    "            padding=\"SAME\",\n",
    "            activation=\"relu\",\n",
    "        ),\n",
    "        tf.keras.layers.Conv2DTranspose(\n",
    "            filters=64,\n",
    "            kernel_size=3,\n",
    "            strides=(2, 2),\n",
    "            padding=\"SAME\",\n",
    "            activation=\"relu\",\n",
    "        ),\n",
    "        tf.keras.layers.Conv2DTranspose(\n",
    "            filters=32,\n",
    "            kernel_size=3,\n",
    "            strides=(2, 2),\n",
    "            padding=\"SAME\",\n",
    "            activation=\"relu\",\n",
    "        ),\n",
    "        tf.keras.layers.Conv2DTranspose(\n",
    "            filters=1,\n",
    "            kernel_size=3,\n",
    "            strides=(1, 1),\n",
    "            padding=\"SAME\",\n",
    "            activation=\"sigmoid\",\n",
    "        ),\n",
    "        Reshape(target_shape=(160, 32, 1)),\n",
    "    ]"
   ]
  },
  {
   "cell_type": "code",
   "execution_count": null,
   "metadata": {
    "ExecuteTime": {
     "start_time": "2019-05-06T23:06:04.717Z"
    }
   },
   "outputs": [],
   "source": [
    "optimizer = tf.keras.optimizers.Adam(1e-4)"
   ]
  },
  {
   "cell_type": "code",
   "execution_count": null,
   "metadata": {
    "ExecuteTime": {
     "start_time": "2019-05-06T23:06:04.720Z"
    }
   },
   "outputs": [],
   "source": [
    "model = AE(\n",
    "    enc = enc,\n",
    "    dec = dec,\n",
    "    optimizer = optimizer\n",
    ")"
   ]
  },
  {
   "cell_type": "code",
   "execution_count": null,
   "metadata": {
    "ExecuteTime": {
     "start_time": "2019-05-06T23:06:04.725Z"
    }
   },
   "outputs": [
    {
     "name": "stdout",
     "output_type": "stream",
     "text": [
      "(32, 512)\n"
     ]
    }
   ],
   "source": [
    "ex_z = model.encode(example_data)\n",
    "print(ex_z.shape)"
   ]
  },
  {
   "cell_type": "code",
   "execution_count": null,
   "metadata": {
    "ExecuteTime": {
     "start_time": "2019-05-06T23:06:04.728Z"
    }
   },
   "outputs": [
    {
     "data": {
      "text/plain": [
       "0.03302204"
      ]
     },
     "execution_count": 18,
     "metadata": {},
     "output_type": "execute_result"
    }
   ],
   "source": [
    "np.max((ex_z.numpy()))"
   ]
  },
  {
   "cell_type": "code",
   "execution_count": null,
   "metadata": {
    "ExecuteTime": {
     "start_time": "2019-05-06T23:06:04.732Z"
    }
   },
   "outputs": [
    {
     "name": "stdout",
     "output_type": "stream",
     "text": [
      "(32, 160, 32, 1)\n"
     ]
    }
   ],
   "source": [
    "ex_x = model.decode(ex_z)\n",
    "print(ex_x.shape)"
   ]
  },
  {
   "cell_type": "code",
   "execution_count": null,
   "metadata": {
    "ExecuteTime": {
     "start_time": "2019-05-06T23:06:04.737Z"
    }
   },
   "outputs": [],
   "source": [
    "examp = next(iter(dset.dataset_batch))['spectrogram']"
   ]
  },
  {
   "cell_type": "code",
   "execution_count": null,
   "metadata": {
    "ExecuteTime": {
     "start_time": "2019-05-06T23:06:04.741Z"
    }
   },
   "outputs": [],
   "source": [
    "example_loss = []"
   ]
  },
  {
   "cell_type": "code",
   "execution_count": null,
   "metadata": {
    "ExecuteTime": {
     "start_time": "2019-05-06T23:06:04.748Z"
    },
    "scrolled": false
   },
   "outputs": [
    {
     "data": {
      "application/vnd.jupyter.widget-view+json": {
       "model_id": "529d4a4665dc4a47a05a481deee21f23",
       "version_major": 2,
       "version_minor": 0
      },
      "text/plain": [
       "HBox(children=(IntProgress(value=1, bar_style='info', max=1), HTML(value='')))"
      ]
     },
     "metadata": {},
     "output_type": "display_data"
    },
    {
     "name": "stdout",
     "output_type": "stream",
     "text": [
      "nan\n"
     ]
    },
    {
     "data": {
      "image/png": "[encoded data removed]",
      "text/plain": [
       "<Figure size 1152x432 with 2 Axes>"
      ]
     },
     "metadata": {
      "needs_background": "light"
     },
     "output_type": "display_data"
    }
   ],
   "source": [
    "for epoch in range(100): \n",
    "    txi = 0\n",
    "    for train_x in tqdm(dset.dataset_batch):\n",
    "        gradients = model.compute_gradients(tf.expand_dims(train_x['spectrogram'], axis=3))\n",
    "        model.optimizer.apply_gradients(zip(gradients, model.trainable_variables)) \n",
    "        txi +=1\n",
    "        if (txi % 100 == 0): \n",
    "            if (txi % 1000 == 0):\n",
    "                display.clear_output(wait=False)\n",
    "                plt.plot(example_loss)\n",
    "                plt.show()\n",
    "            example_loss.append(model.compute_loss(example_data).numpy())\n",
    "            print(example_loss[-1])\n",
    "            recon = model.decode(model.encode(example_data))\n",
    "            \n",
    "            fig, axs = plt.subplots(nrows =2, figsize=(16,6))\n",
    "            axs[0].matshow(np.squeeze(example_data.numpy()[0]).T, vmin=0, vmax=1)\n",
    "            axs[1].matshow(np.squeeze(recon.numpy()[0]).T, vmin=0, vmax=1)\n",
    "            plt.show()\n",
    "\n",
    "    "
   ]
  },
  {
   "cell_type": "code",
   "execution_count": null,
   "metadata": {},
   "outputs": [],
   "source": []
  },
  {
   "cell_type": "code",
   "execution_count": null,
   "metadata": {},
   "outputs": [],
   "source": []
  }
 ],
 "metadata": {
  "kernelspec": {
   "display_name": "Python 3",
   "language": "python",
   "name": "python3"
  },
  "language_info": {
   "codemirror_mode": {
    "name": "ipython",
    "version": 3
   },
   "file_extension": ".py",
   "mimetype": "text/x-python",
   "name": "python",
   "nbconvert_exporter": "python",
   "pygments_lexer": "ipython3",
   "version": "3.6.8"
  }
 },
 "nbformat": 4,
 "nbformat_minor": 2
}
