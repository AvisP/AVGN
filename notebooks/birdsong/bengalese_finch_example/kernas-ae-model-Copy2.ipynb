{
 "cells": [
  {
   "cell_type": "code",
   "execution_count": 1,
   "metadata": {
    "ExecuteTime": {
     "end_time": "2019-04-30T20:17:45.163923Z",
     "start_time": "2019-04-30T20:17:45.159209Z"
    }
   },
   "outputs": [
    {
     "name": "stdout",
     "output_type": "stream",
     "text": [
      "env: CUDA_DEVICE_ORDER=PCI_BUS_ID\n",
      "env: CUDA_VISIBLE_DEVICES=2\n"
     ]
    }
   ],
   "source": [
    "%env CUDA_DEVICE_ORDER=PCI_BUS_ID\n",
    "%env CUDA_VISIBLE_DEVICES=2"
   ]
  },
  {
   "cell_type": "code",
   "execution_count": 2,
   "metadata": {
    "ExecuteTime": {
     "end_time": "2019-04-30T20:17:45.642886Z",
     "start_time": "2019-04-30T20:17:45.165596Z"
    }
   },
   "outputs": [
    {
     "name": "stderr",
     "output_type": "stream",
     "text": [
      "/mnt/cube/tsainbur/conda_envs/tpy3/lib/python3.6/site-packages/tqdm/autonotebook/__init__.py:14: TqdmExperimentalWarning: Using `tqdm.autonotebook.tqdm` in notebook mode. Use `tqdm.tqdm` instead to force console mode (e.g. in jupyter console)\n",
      "  \" (e.g. in jupyter console)\", TqdmExperimentalWarning)\n"
     ]
    }
   ],
   "source": [
    "from tqdm.autonotebook import tqdm\n",
    "from IPython import display\n",
    "import numpy as np\n",
    "import matplotlib.pyplot as plt\n",
    "%matplotlib inline"
   ]
  },
  {
   "cell_type": "code",
   "execution_count": 3,
   "metadata": {
    "ExecuteTime": {
     "end_time": "2019-04-30T20:17:45.649231Z",
     "start_time": "2019-04-30T20:17:45.646252Z"
    }
   },
   "outputs": [],
   "source": [
    "#import tensorflow.compat.v1 as tf\n",
    "#tf.enable_eager_execution()\n",
    "#tf.disable_v2_behavior()"
   ]
  },
  {
   "cell_type": "code",
   "execution_count": 4,
   "metadata": {
    "ExecuteTime": {
     "end_time": "2019-04-30T20:17:48.976364Z",
     "start_time": "2019-04-30T20:17:45.651185Z"
    }
   },
   "outputs": [],
   "source": [
    "import tensorflow as tf"
   ]
  },
  {
   "cell_type": "code",
   "execution_count": 5,
   "metadata": {
    "ExecuteTime": {
     "end_time": "2019-04-30T20:17:49.001973Z",
     "start_time": "2019-04-30T20:17:48.979773Z"
    }
   },
   "outputs": [],
   "source": [
    "class subnetwork(object):\n",
    "    \"\"\" defines modules within a network (e.g. encoder, decoder, discriminator)\n",
    "    \"\"\"\n",
    "\n",
    "    def __init__(self, params):\n",
    "        self.__dict__.update(params)\n",
    "\n",
    "\n",
    "class fully_connected_network(subnetwork):\n",
    "    \"\"\" dense network \n",
    "    \"\"\"\n",
    "\n",
    "    def __init__(self, params):\n",
    "        self.__dict__.update(params)\n",
    "\n",
    "    def encoder(self):\n",
    "        # list the sequential layers\n",
    "        enc = tf.keras.Sequential()\n",
    "        enc.add(tf.keras.layers.InputLayer(input_shape=self.dims))\n",
    "        enc.add(tf.keras.layers.Flatten())\n",
    "        # add layers\n",
    "        for lay in range(self.n_layers):\n",
    "            enc.add(tf.keras.layers.Dense(self.fc_neurons, activation=self.activation))\n",
    "        # if VAE, this output needs to be either\n",
    "        if self.network_type == 'VAE':\n",
    "            enc.add(tf.keras.layers.Dense(units=self.n_Z * 2))\n",
    "        else:\n",
    "            enc.add(tf.keras.layers.Dense(units=self.n_Z))\n",
    "        return enc\n",
    "\n",
    "    def decoder(self):\n",
    "        dec = tf.keras.Sequential()\n",
    "        # add layers\n",
    "        for lay in range(self.n_layers):\n",
    "            dec.add(tf.keras.layers.Dense(self.fc_neurons, activation=self.activation))\n",
    "        # output\n",
    "        dec.add(tf.keras.layers.Dense(units=tf.math.reduce_prod(self.dims)))\n",
    "        # reshape\n",
    "        dec.add(tf.keras.layers.Reshape(target_shape = self.dims))\n",
    "        return dec\n",
    "\n",
    "    def discriminator(self):\n",
    "        disc = tf.keras.Sequential()\n",
    "        # add layers\n",
    "        for lay in range(self.n_layers):\n",
    "            disc.add(tf.keras.layers.Dense(self.fc_neurons, activation=self.activation))\n",
    "        # add discriminator\n",
    "        disc.add(tf.keras.layers.Dense(self.fc_neurons))\n",
    "        return disc"
   ]
  },
  {
   "cell_type": "code",
   "execution_count": null,
   "metadata": {},
   "outputs": [],
   "source": [
    "# filters\n"
   ]
  },
  {
   "cell_type": "code",
   "execution_count": null,
   "metadata": {},
   "outputs": [],
   "source": [
    "class convolutional_network(subnetwork):\n",
    "    \"\"\" convolutional network with upsampling and downsampling \n",
    "    \"\"\"\n",
    "\n",
    "    def __init__(self, params):\n",
    "        self.__dict__.update(params)\n",
    "\n",
    "    def encoder(self):\n",
    "        # list the sequential layers\n",
    "        enc = tf.keras.Sequential()\n",
    "        enc.add(tf.keras.layers.InputLayer(input_shape=self.dims))\n",
    "        \n",
    "        # add layers\n",
    "        for lay in range(self.encoder_layers):\n",
    "            enc.add(\n",
    "            tf.keras.layers.Conv2D(\n",
    "                    filters=lay['filters'],\n",
    "                    kernel_size=lay['kernel_size'],\n",
    "                    strides=lay['strids'],\n",
    "                    activation=lay['activation']\n",
    "                )\n",
    "            )\n",
    "            \n",
    "            enc.add(tf.keras.layers.Dense(self.fc_neurons, activation=self.activation))\n",
    "        # if VAE, this output needs to be either\n",
    "        if self.network_type == 'VAE':\n",
    "            enc.add(tf.keras.layers.Dense(units=self.n_Z * 2))\n",
    "        else:\n",
    "            enc.add(tf.keras.layers.Dense(units=self.n_Z))\n",
    "        return enc\n",
    "\n",
    "    def decoder(self):\n",
    "        dec = tf.keras.Sequential()\n",
    "        # add layers\n",
    "        for lay in range(self.n_layers):\n",
    "            dec.add(tf.keras.layers.Dense(self.fc_neurons, activation=self.activation))\n",
    "        # output\n",
    "        dec.add(tf.keras.layers.Dense(units=tf.math.reduce_prod(self.dims)))\n",
    "        # reshape\n",
    "        dec.add(tf.keras.layers.Reshape(target_shape = self.dims))\n",
    "        return dec\n",
    "\n",
    "    def discriminator(self):\n",
    "        disc = tf.keras.Sequential()\n",
    "        # add layers\n",
    "        for lay in range(self.n_layers):\n",
    "            disc.add(tf.keras.layers.Dense(self.fc_neurons, activation=self.activation))\n",
    "        # add discriminator\n",
    "        disc.add(tf.keras.layers.Dense(self.fc_neurons))\n",
    "        return disc"
   ]
  },
  {
   "cell_type": "code",
   "execution_count": null,
   "metadata": {},
   "outputs": [],
   "source": [
    "dims = (28, 28, 1)\n",
    "n_Z = 2\n",
    "encoder_network_fc = tf.keras.Sequential(\n",
    "    [\n",
    "        tf.keras.layers.InputLayer(input_shape=dims),\n",
    "        tf.keras.layers.Flatten()\n",
    "        tf.keras.layers.Dense(units=64)\n",
    "        tf.keras.layers.Dense(units=64)\n",
    "        tf.keras.layers.Dense(units=64)\n",
    "        tf.keras.layers.Dense(units=n_Z*2)\n",
    "    ]\n",
    ")\n",
    "decoder_network_fc = tf.keras.Sequential(\n",
    "    [\n",
    "        tf.keras.layers.InputLayer(input_shape=dims),\n",
    "        tf.keras.layers.Flatten()\n",
    "        tf.keras.layers.Dense(units=64)\n",
    "        tf.keras.layers.Dense(units=64)\n",
    "        tf.keras.layers.Dense(units=64)\n",
    "        tf.keras.layers.Dense(units=n_Z*2)\n",
    "    ]\n",
    ")"
   ]
  },
  {
   "cell_type": "code",
   "execution_count": null,
   "metadata": {},
   "outputs": [],
   "source": [
    "enc.add(tf.keras.layers.Flatten())\n",
    "        # add layers\n",
    "        for lay in range(self.n_layers):\n",
    "            enc.add(tf.keras.layers.Dense(self.fc_neurons, activation=self.activation))\n",
    "        # if VAE, this output needs to be either\n",
    "        if self.network_type == 'VAE':\n",
    "            enc.add(tf.keras.layers.Dense(units=self.n_Z * 2))\n",
    "        else:\n",
    "            enc.add(tf.keras.layers.Dense(units=self.n_Z))\n",
    "        return enc"
   ]
  },
  {
   "cell_type": "code",
   "execution_count": 16,
   "metadata": {
    "ExecuteTime": {
     "end_time": "2019-04-30T20:25:53.264152Z",
     "start_time": "2019-04-30T20:25:53.240908Z"
    }
   },
   "outputs": [],
   "source": [
    "class VAE(tf.keras.Model):\n",
    "    def __init__(self, **kwargs):\n",
    "        super(VAE, self).__init__()\n",
    "        print(kwargs)\n",
    "        self.__dict__.update(kwargs)\n",
    "        self.network_type = 'VAE'\n",
    "    \n",
    "        self.subnetwork = self.network_architecture(self.__dict__)\n",
    "\n",
    "    def encode(self, x):\n",
    "        \"\"\" pass X through encoder\n",
    "        \"\"\"\n",
    "        mean, logvar = tf.split(self.enc(x), num_or_size_splits=2, axis=1)\n",
    "        return mean, logvar\n",
    "\n",
    "    def reparameterize(self, mean, logvar):\n",
    "        eps = tf.random.normal(shape=mean.shape)\n",
    "        return eps * tf.exp(logvar * 0.5) + mean\n",
    "\n",
    "    def decode(self, z, apply_sigmoid=False):\n",
    "        logits = self.dec(z)\n",
    "        if apply_sigmoid:\n",
    "            probs = tf.sigmoid(logits)\n",
    "            return probs\n",
    "        return logits\n",
    "    def sample(self, eps=None):\n",
    "        if eps is None:\n",
    "            eps = tf.random.normal(shape=(100, self.n_Z))\n",
    "        return self.decode(eps, apply_sigmoid=True)"
   ]
  },
  {
   "cell_type": "code",
   "execution_count": 17,
   "metadata": {
    "ExecuteTime": {
     "end_time": "2019-04-30T20:25:53.945468Z",
     "start_time": "2019-04-30T20:25:53.924254Z"
    }
   },
   "outputs": [],
   "source": [
    "def log_normal_pdf(sample, mean, logvar, raxis=1):\n",
    "    log2pi = tf.math.log(2.0 * np.pi)\n",
    "    return tf.reduce_sum(\n",
    "        -0.5 * ((sample - mean) ** 2.0 * tf.exp(-logvar) + logvar + log2pi), axis=raxis\n",
    "    )\n",
    "\n",
    "\n",
    "def compute_loss(model, x):\n",
    "    mean, logvar = model.encode(x)\n",
    "    z = model.reparameterize(mean, logvar)\n",
    "    x_logit = model.decode(z)\n",
    "\n",
    "    cross_ent = tf.nn.sigmoid_cross_entropy_with_logits(logits=x_logit, labels=x)\n",
    "    logpx_z = -tf.reduce_sum(cross_ent, axis=[1, 2, 3])\n",
    "    logpz = log_normal_pdf(z, 0.0, 0.0)\n",
    "    logqz_x = log_normal_pdf(z, mean, logvar)\n",
    "    return -tf.reduce_mean(logpx_z + logpz - logqz_x)\n",
    "\n",
    "\n",
    "def compute_gradients(model, x):\n",
    "    with tf.GradientTape() as tape:\n",
    "        loss = compute_loss(model, x)\n",
    "    return tape.gradient(loss, model.trainable_variables), loss\n",
    "\n",
    "\n",
    "def apply_gradients(optimizer, gradients, variables):\n",
    "    optimizer.apply_gradients(zip(gradients, variables))\n"
   ]
  },
  {
   "cell_type": "code",
   "execution_count": 18,
   "metadata": {
    "ExecuteTime": {
     "end_time": "2019-04-30T20:25:54.159003Z",
     "start_time": "2019-04-30T20:25:54.147991Z"
    }
   },
   "outputs": [],
   "source": [
    "def generate_images(model, test_input):\n",
    "    predictions = model.sample(test_input)\n",
    "    fig = plt.figure(figsize=(8, 8))\n",
    "\n",
    "    for i in range(predictions.shape[0]):\n",
    "        plt.subplot(4, 4, i + 1)\n",
    "        plt.imshow(predictions[i, :, :, 0], cmap=\"gray\")\n",
    "        plt.axis(\"off\")\n",
    "\n",
    "    # tight_layout minimizes the overlap between 2 sub-plots\n",
    "    plt.show()"
   ]
  },
  {
   "cell_type": "code",
   "execution_count": 19,
   "metadata": {
    "ExecuteTime": {
     "end_time": "2019-04-30T20:25:54.820534Z",
     "start_time": "2019-04-30T20:25:54.815302Z"
    }
   },
   "outputs": [],
   "source": [
    "epochs = 100\n",
    "latent_dim = 2\n",
    "num_examples_to_generate = 16"
   ]
  },
  {
   "cell_type": "code",
   "execution_count": 20,
   "metadata": {
    "ExecuteTime": {
     "end_time": "2019-04-30T20:25:55.027035Z",
     "start_time": "2019-04-30T20:25:55.005934Z"
    }
   },
   "outputs": [],
   "source": [
    "# keeping the random vector constant for generation (prediction) so\n",
    "# it will be easier to see the improvement.\n",
    "random_vector_for_generation = tf.random.normal(\n",
    "    shape=[num_examples_to_generate, latent_dim]\n",
    ")"
   ]
  },
  {
   "cell_type": "code",
   "execution_count": 21,
   "metadata": {
    "ExecuteTime": {
     "end_time": "2019-04-30T20:25:55.339678Z",
     "start_time": "2019-04-30T20:25:55.176024Z"
    }
   },
   "outputs": [
    {
     "name": "stdout",
     "output_type": "stream",
     "text": [
      "{'n_Z': 2, 'n_layers': 3, 'fc_neurons': 25, 'activation': <function relu at 0x7f30242f22f0>, 'dims': (28, 28, 1)}\n"
     ]
    }
   ],
   "source": [
    "\"\"\"\n",
    "# fully connected network\n",
    "optimizer = tf.keras.optimizers.Adam(1e-4)\n",
    "model = VAE(\n",
    "    n_Z = latent_dim,\n",
    "    n_layers = 3,\n",
    "    fc_neurons = 25,\n",
    "    activation = tf.nn.relu,\n",
    "    dims = (28,28,1),\n",
    "    network_architecture = fully_connected_network\n",
    ")\n",
    "\"\"\""
   ]
  },
  {
   "cell_type": "code",
   "execution_count": 22,
   "metadata": {
    "ExecuteTime": {
     "end_time": "2019-04-30T20:25:55.827234Z",
     "start_time": "2019-04-30T20:25:55.811763Z"
    }
   },
   "outputs": [],
   "source": [
    "#@tf.function\n",
    "def train(model, train_dataset, optimizer):\n",
    "    for train_x in tqdm(train_dataset): \n",
    "        with tf.GradientTape() as tape:\n",
    "            loss = compute_loss(model, train_x)\n",
    "        gradients = tape.gradient(loss, model.trainable_variables)\n",
    "        optimizer.apply_gradients(zip(gradients, model.trainable_variables))  \n",
    "        \n",
    "#@tf.function\n",
    "def test(model, test_dataset, epoch):\n",
    "    loss = tf.keras.metrics.Mean()\n",
    "    for test_x in test_dataset:\n",
    "        loss(compute_loss(model, test_x))\n",
    "    elbo = -loss.result()\n",
    "    display.clear_output(wait=False)\n",
    "    print(\n",
    "        \"Epoch: {}, Test set ELBO: {}\".format(\n",
    "            epoch, elbo\n",
    "        )\n",
    "    )\n",
    "    generate_images(model, random_vector_for_generation)"
   ]
  },
  {
   "cell_type": "code",
   "execution_count": 23,
   "metadata": {
    "ExecuteTime": {
     "end_time": "2019-04-30T20:25:57.287421Z",
     "start_time": "2019-04-30T20:25:56.337666Z"
    }
   },
   "outputs": [],
   "source": [
    "# load dataset\n",
    "(train_images, _), (test_images, _) = tf.keras.datasets.mnist.load_data()\n",
    "\n",
    "# split dataset\n",
    "train_images = train_images.reshape(train_images.shape[0], 28, 28, 1).astype(\"float32\")\n",
    "test_images = test_images.reshape(test_images.shape[0], 28, 28, 1).astype(\"float32\")\n",
    "\n",
    "# Normalizing the images to the range of [0., 1.]\n",
    "train_images /= 255.0\n",
    "test_images /= 255.0\n",
    "\n",
    "# Binarization\n",
    "train_images[train_images >= 0.5] = 1.0\n",
    "train_images[train_images < 0.5] = 0.0\n",
    "test_images[test_images >= 0.5] = 1.0\n",
    "test_images[test_images < 0.5] = 0.0\n",
    "\n",
    "TRAIN_BUF = 60000\n",
    "BATCH_SIZE = 512\n",
    "TEST_BUF = 10000\n",
    "# batch datasets\n",
    "train_dataset = (\n",
    "    tf.data.Dataset.from_tensor_slices(train_images)\n",
    "    .shuffle(TRAIN_BUF)\n",
    "    .batch(BATCH_SIZE)\n",
    ")\n",
    "test_dataset = (\n",
    "    tf.data.Dataset.from_tensor_slices(test_images).shuffle(TEST_BUF).batch(BATCH_SIZE)\n",
    ")\n",
    "train_dataset = train_dataset.prefetch(buffer_size=4)\n",
    "test_dataset = test_dataset.prefetch(buffer_size=4)"
   ]
  },
  {
   "cell_type": "code",
   "execution_count": 57,
   "metadata": {
    "ExecuteTime": {
     "end_time": "2019-04-30T20:43:24.983567Z",
     "start_time": "2019-04-30T20:33:30.470666Z"
    }
   },
   "outputs": [
    {
     "name": "stdout",
     "output_type": "stream",
     "text": [
      "Epoch: 100, Test set ELBO: -161.1648406982422\n"
     ]
    },
    {
     "data": {
      "image/png": "[encoded data removed]",
      "text/plain": [
       "<Figure size 576x576 with 16 Axes>"
      ]
     },
     "metadata": {
      "needs_background": "light"
     },
     "output_type": "display_data"
    }
   ],
   "source": [
    "for epoch in range(1, epochs + 1):\n",
    "    train(model, train_dataset, optimizer)\n",
    "    if epoch % 1 == 0:\n",
    "        test(model, test_dataset, epoch)"
   ]
  },
  {
   "cell_type": "code",
   "execution_count": 58,
   "metadata": {
    "ExecuteTime": {
     "end_time": "2019-04-30T20:45:12.175397Z",
     "start_time": "2019-04-30T20:45:11.994524Z"
    }
   },
   "outputs": [],
   "source": [
    "test_sample = next(iter(test_dataset))"
   ]
  },
  {
   "cell_type": "code",
   "execution_count": 59,
   "metadata": {
    "ExecuteTime": {
     "end_time": "2019-04-30T20:45:12.209708Z",
     "start_time": "2019-04-30T20:45:12.180953Z"
    }
   },
   "outputs": [],
   "source": [
    "z_sample = model.encode(test_sample)[0].numpy()"
   ]
  },
  {
   "cell_type": "code",
   "execution_count": 60,
   "metadata": {
    "ExecuteTime": {
     "end_time": "2019-04-30T20:45:12.554767Z",
     "start_time": "2019-04-30T20:45:12.297017Z"
    }
   },
   "outputs": [
    {
     "data": {
      "text/plain": [
       "<matplotlib.collections.PathCollection at 0x7f300c271f98>"
      ]
     },
     "execution_count": 60,
     "metadata": {},
     "output_type": "execute_result"
    },
    {
     "data": {
      "image/png": "[encoded data removed]",
      "text/plain": [
       "<Figure size 432x288 with 1 Axes>"
      ]
     },
     "metadata": {
      "needs_background": "light"
     },
     "output_type": "display_data"
    }
   ],
   "source": [
    "plt.scatter(z_sample[:,0], z_sample[:,1])"
   ]
  },
  {
   "cell_type": "code",
   "execution_count": null,
   "metadata": {},
   "outputs": [],
   "source": []
  }
 ],
 "metadata": {
  "kernelspec": {
   "display_name": "Python 3",
   "language": "python",
   "name": "python3"
  },
  "language_info": {
   "codemirror_mode": {
    "name": "ipython",
    "version": 3
   },
   "file_extension": ".py",
   "mimetype": "text/x-python",
   "name": "python",
   "nbconvert_exporter": "python",
   "pygments_lexer": "ipython3",
   "version": "3.6.8"
  }
 },
 "nbformat": 4,
 "nbformat_minor": 2
}
