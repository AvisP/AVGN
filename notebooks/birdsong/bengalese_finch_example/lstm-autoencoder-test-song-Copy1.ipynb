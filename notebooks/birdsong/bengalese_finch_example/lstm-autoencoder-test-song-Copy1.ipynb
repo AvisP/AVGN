{
 "cells": [
  {
   "cell_type": "code",
   "execution_count": 1,
   "metadata": {
    "ExecuteTime": {
     "end_time": "2019-05-05T00:12:55.440904Z",
     "start_time": "2019-05-05T00:12:55.438917Z"
    }
   },
   "outputs": [],
   "source": [
    "# https://machinelearningmastery.com/lstm-autoencoders/\n",
    "# https://github.com/gentnerlab/buckeye/blob/master/buckeye_seq2seq.py"
   ]
  },
  {
   "cell_type": "code",
   "execution_count": 2,
   "metadata": {
    "ExecuteTime": {
     "end_time": "2019-05-05T00:12:59.839340Z",
     "start_time": "2019-05-05T00:12:55.442683Z"
    }
   },
   "outputs": [
    {
     "name": "stderr",
     "output_type": "stream",
     "text": [
      "/mnt/cube/tsainbur/conda_envs/tpy3/lib/python3.6/site-packages/tqdm/autonotebook/__init__.py:14: TqdmExperimentalWarning: Using `tqdm.autonotebook.tqdm` in notebook mode. Use `tqdm.tqdm` instead to force console mode (e.g. in jupyter console)\n",
      "  \" (e.g. in jupyter console)\", TqdmExperimentalWarning)\n"
     ]
    }
   ],
   "source": [
    "import matplotlib.pyplot as plt\n",
    "%matplotlib inline\n",
    "from tqdm.autonotebook import tqdm\n",
    "import tensorflow as tf\n",
    "import numpy as np"
   ]
  },
  {
   "cell_type": "code",
   "execution_count": 3,
   "metadata": {
    "ExecuteTime": {
     "end_time": "2019-05-05T00:12:59.854667Z",
     "start_time": "2019-05-05T00:12:59.844382Z"
    }
   },
   "outputs": [
    {
     "name": "stdout",
     "output_type": "stream",
     "text": [
      "env: CUDA_DEVICE_ORDER=PCI_BUS_ID\n",
      "env: CUDA_VISIBLE_DEVICES=3\n"
     ]
    }
   ],
   "source": [
    "%env CUDA_DEVICE_ORDER=PCI_BUS_ID\n",
    "%env CUDA_VISIBLE_DEVICES=2"
   ]
  },
  {
   "cell_type": "code",
   "execution_count": 4,
   "metadata": {
    "ExecuteTime": {
     "end_time": "2019-05-05T00:12:59.955574Z",
     "start_time": "2019-05-05T00:12:59.857976Z"
    }
   },
   "outputs": [],
   "source": [
    "def visualize_results(model, dataset):\n",
    "    x_batch = next(iter(dataset))\n",
    "    z = model.encode(x_batch)\n",
    "    x_recon = model.decode(z)\n",
    "    nex = 10\n",
    "    fig, axs = plt.subplots(nrows = 2, ncols=nex, figsize=(nex*2, 4))\n",
    "    for i in range(nex):\n",
    "        axs[0,i].matshow(x_recon.numpy()[i].squeeze(), vmin=0, vmax = 1, cmap = plt.cm.Greys)\n",
    "        axs[1,i].matshow(x_batch.numpy()[i].squeeze(), vmin=0, vmax = 1, cmap = plt.cm.Greys)\n",
    "        axs[0,i].axis('off')\n",
    "        axs[1,i].axis('off')\n",
    "    plt.show()"
   ]
  },
  {
   "cell_type": "code",
   "execution_count": 6,
   "metadata": {
    "ExecuteTime": {
     "end_time": "2019-05-05T00:14:43.614596Z",
     "start_time": "2019-05-05T00:14:35.715889Z"
    }
   },
   "outputs": [],
   "source": [
    "from avgn.networks.test_datasets import load_fashion_MNIST\n",
    "# get the datasets\n",
    "ds, test_dataset = load_fashion_MNIST(TRAIN_BUF=60000, BATCH_SIZE=2048)"
   ]
  },
  {
   "cell_type": "code",
   "execution_count": 7,
   "metadata": {
    "ExecuteTime": {
     "end_time": "2019-05-05T00:14:43.621427Z",
     "start_time": "2019-05-05T00:14:43.618228Z"
    }
   },
   "outputs": [],
   "source": [
    "seq_len = 28\n",
    "ndims = 28"
   ]
  },
  {
   "cell_type": "code",
   "execution_count": 8,
   "metadata": {
    "ExecuteTime": {
     "end_time": "2019-05-05T00:14:46.047248Z",
     "start_time": "2019-05-05T00:14:46.030877Z"
    }
   },
   "outputs": [
    {
     "data": {
      "text/plain": [
       "<BatchDataset shapes: (None, 28, 28, 1), types: tf.float32>"
      ]
     },
     "execution_count": 8,
     "metadata": {},
     "output_type": "execute_result"
    }
   ],
   "source": [
    "ds"
   ]
  },
  {
   "cell_type": "code",
   "execution_count": 9,
   "metadata": {
    "ExecuteTime": {
     "end_time": "2019-05-05T00:14:46.409424Z",
     "start_time": "2019-05-05T00:14:46.397003Z"
    }
   },
   "outputs": [],
   "source": [
    "from tensorflow.keras.layers import (\n",
    "    RepeatVector,\n",
    "    Dense,\n",
    "    TimeDistributed,\n",
    "    Conv1D,\n",
    "    Conv2D,\n",
    "    Reshape,\n",
    ")  # , LSTM\n",
    "from tensorflow.python.keras.layers.recurrent import UnifiedLSTM as LSTM\n"
   ]
  },
  {
   "cell_type": "code",
   "execution_count": 10,
   "metadata": {
    "ExecuteTime": {
     "end_time": "2019-05-05T00:14:46.820745Z",
     "start_time": "2019-05-05T00:14:46.787822Z"
    }
   },
   "outputs": [],
   "source": [
    "class seq2seq_autoencoder(tf.keras.Model):\n",
    "    \"\"\" an autoencoder based on LSTM \n",
    "    Extends:\n",
    "        tf.keras.Model\n",
    "    \"\"\"\n",
    "\n",
    "    def __init__(self, **kwargs):\n",
    "        super(seq2seq_autoencoder, self).__init__()\n",
    "        self.__dict__.update(kwargs)\n",
    "        self.enc = tf.keras.Sequential(\n",
    "            [\n",
    "                tf.keras.layers.Conv2D(\n",
    "                    filters=64,\n",
    "                    kernel_size=3,\n",
    "                    strides=(1, 2),\n",
    "                    activation=\"relu\",\n",
    "                    padding=\"same\",\n",
    "                ),\n",
    "                Reshape(target_shape=(28, 14 * 64)),\n",
    "                LSTM(units=32, activation=\"relu\"),\n",
    "                RepeatVector(seq_len),\n",
    "            ]\n",
    "        )\n",
    "\n",
    "        self.dec = tf.keras.Sequential(\n",
    "            [\n",
    "                LSTM(units=100, activation=\"relu\", return_sequences=True),\n",
    "                TimeDistributed(Dense(28 * 1)),\n",
    "                Reshape(target_shape=(28, 28, 1)),\n",
    "            ]\n",
    "        )\n",
    "\n",
    "    def encode(self, x):\n",
    "        return self.enc(x)\n",
    "\n",
    "    def decode(self, z):\n",
    "        return self.dec(z)\n",
    "\n",
    "    def compute_loss(self, x):\n",
    "        \"\"\" passes through the network and computes loss\n",
    "        \"\"\"\n",
    "        z = self.encode(x)\n",
    "        _x = self.decode(z)\n",
    "        ae_loss = tf.reduce_mean(tf.square(x - _x))\n",
    "        return ae_loss\n",
    "\n",
    "    def compute_gradients(self, x):\n",
    "        \"\"\" passes through the network and computes loss\n",
    "        \"\"\"\n",
    "        ### pass through network\n",
    "        with tf.GradientTape() as tape:\n",
    "            ae_loss = self.compute_loss(x)\n",
    "\n",
    "        # compute gradients\n",
    "        gradients = tape.gradient(ae_loss, self.trainable_variables)\n",
    "\n",
    "        return gradients\n",
    "\n",
    "    def apply_gradients(self, gradients):\n",
    "\n",
    "        self.optimizer.apply_gradients(zip(gradients, self.trainable_variables))\n",
    "\n",
    "    def train(self, train_dataset):\n",
    "        for train_x in tqdm(train_dataset, leave=False):\n",
    "            gradients = self.compute_gradients(train_x)\n",
    "            self.apply_gradients(gradients)"
   ]
  },
  {
   "cell_type": "code",
   "execution_count": 11,
   "metadata": {
    "ExecuteTime": {
     "end_time": "2019-05-05T00:14:47.212907Z",
     "start_time": "2019-05-05T00:14:47.150114Z"
    }
   },
   "outputs": [
    {
     "name": "stderr",
     "output_type": "stream",
     "text": [
      "WARNING: Logging before flag parsing goes to stderr.\n",
      "W0504 17:14:47.177121 140562557609728 tf_logging.py:161] <tensorflow.python.keras.layers.recurrent.UnifiedLSTM object at 0x7fd72769bf98>: Note that this layer is not optimized for performance. Please use tf.keras.layers.CuDNNLSTM for better performance on GPU.\n",
      "W0504 17:14:47.196044 140562557609728 tf_logging.py:161] <tensorflow.python.keras.layers.recurrent.UnifiedLSTM object at 0x7fd6c1254748>: Note that this layer is not optimized for performance. Please use tf.keras.layers.CuDNNLSTM for better performance on GPU.\n"
     ]
    }
   ],
   "source": [
    "optimizer = tf.keras.optimizers.Adam(.001, beta_1=0.5)\n",
    "\n",
    "model = seq2seq_autoencoder(\n",
    "    #enc = enc,\n",
    "    #dec = dec,\n",
    "    optimizer = optimizer\n",
    ")"
   ]
  },
  {
   "cell_type": "code",
   "execution_count": null,
   "metadata": {
    "ExecuteTime": {
     "start_time": "2019-05-05T00:15:36.038Z"
    }
   },
   "outputs": [
    {
     "data": {
      "application/vnd.jupyter.widget-view+json": {
       "model_id": "4c5a457f62814282be880ca598f79a24",
       "version_major": 2,
       "version_minor": 0
      },
      "text/plain": [
       "HBox(children=(IntProgress(value=1, bar_style='info', max=1), HTML(value='')))"
      ]
     },
     "metadata": {},
     "output_type": "display_data"
    }
   ],
   "source": [
    "losses = []\n",
    "for epoch in range(10):\n",
    "    model.train(train_dataset=ds)\n",
    "    # compute loss\n",
    "    batch_loss = np.sum(model.compute_loss(next(iter(ds))).numpy())\n",
    "    losses.append(batch_loss)\n",
    "    # viz results\n",
    "    visualize_results(model, ds)\n",
    "    "
   ]
  },
  {
   "cell_type": "code",
   "execution_count": 13,
   "metadata": {
    "ExecuteTime": {
     "end_time": "2019-05-05T00:15:31.143634Z",
     "start_time": "2019-05-05T00:15:28.823671Z"
    }
   },
   "outputs": [
    {
     "data": {
      "image/png": "[encoded data removed]",
      "text/plain": [
       "<Figure size 1440x288 with 20 Axes>"
      ]
     },
     "metadata": {
      "needs_background": "light"
     },
     "output_type": "display_data"
    }
   ],
   "source": [
    "visualize_results(model, ds)"
   ]
  },
  {
   "cell_type": "code",
   "execution_count": null,
   "metadata": {
    "ExecuteTime": {
     "end_time": "2019-05-05T00:13:00.576459Z",
     "start_time": "2019-05-05T00:12:55.130Z"
    }
   },
   "outputs": [],
   "source": [
    "plt.plot(losses)"
   ]
  },
  {
   "cell_type": "code",
   "execution_count": null,
   "metadata": {},
   "outputs": [],
   "source": []
  },
  {
   "cell_type": "code",
   "execution_count": null,
   "metadata": {},
   "outputs": [],
   "source": []
  }
 ],
 "metadata": {
  "kernelspec": {
   "display_name": "Python 3",
   "language": "python",
   "name": "python3"
  },
  "language_info": {
   "codemirror_mode": {
    "name": "ipython",
    "version": 3
   },
   "file_extension": ".py",
   "mimetype": "text/x-python",
   "name": "python",
   "nbconvert_exporter": "python",
   "pygments_lexer": "ipython3",
   "version": "3.6.8"
  }
 },
 "nbformat": 4,
 "nbformat_minor": 2
}
