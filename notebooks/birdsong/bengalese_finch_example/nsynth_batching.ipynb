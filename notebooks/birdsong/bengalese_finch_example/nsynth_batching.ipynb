{
 "cells": [
  {
   "cell_type": "code",
   "execution_count": 33,
   "metadata": {
    "ExecuteTime": {
     "end_time": "2019-05-06T19:47:37.258525Z",
     "start_time": "2019-05-06T19:47:36.891863Z"
    }
   },
   "outputs": [
    {
     "name": "stdout",
     "output_type": "stream",
     "text": [
      "The autoreload extension is already loaded. To reload it, use:\n",
      "  %reload_ext autoreload\n"
     ]
    }
   ],
   "source": [
    "%load_ext autoreload\n",
    "%autoreload 2"
   ]
  },
  {
   "cell_type": "code",
   "execution_count": 34,
   "metadata": {
    "ExecuteTime": {
     "end_time": "2019-05-06T19:47:37.488873Z",
     "start_time": "2019-05-06T19:47:37.441397Z"
    }
   },
   "outputs": [
    {
     "name": "stdout",
     "output_type": "stream",
     "text": [
      "env: CUDA_DEVICE_ORDER=PCI_BUS_ID\n",
      "env: CUDA_VISIBLE_DEVICES=1\n"
     ]
    }
   ],
   "source": [
    "%env CUDA_DEVICE_ORDER=PCI_BUS_ID\n",
    "%env CUDA_VISIBLE_DEVICES=1"
   ]
  },
  {
   "cell_type": "code",
   "execution_count": 35,
   "metadata": {
    "ExecuteTime": {
     "end_time": "2019-05-06T19:47:37.900973Z",
     "start_time": "2019-05-06T19:47:37.844148Z"
    }
   },
   "outputs": [],
   "source": [
    "import matplotlib.pyplot as plt\n",
    "%matplotlib inline"
   ]
  },
  {
   "cell_type": "code",
   "execution_count": 36,
   "metadata": {
    "ExecuteTime": {
     "end_time": "2019-05-06T19:47:38.223404Z",
     "start_time": "2019-05-06T19:47:38.176799Z"
    }
   },
   "outputs": [],
   "source": [
    "import tensorflow as tf\n",
    "from avgn.utils.paths import DATA_DIR"
   ]
  },
  {
   "cell_type": "code",
   "execution_count": 37,
   "metadata": {
    "ExecuteTime": {
     "end_time": "2019-05-06T19:47:38.457155Z",
     "start_time": "2019-05-06T19:47:38.387839Z"
    }
   },
   "outputs": [],
   "source": [
    "from avgn.datasets.nsynth import HParams, NSynthDataset"
   ]
  },
  {
   "cell_type": "code",
   "execution_count": 38,
   "metadata": {
    "ExecuteTime": {
     "end_time": "2019-05-06T19:47:38.644208Z",
     "start_time": "2019-05-06T19:47:38.596901Z"
    }
   },
   "outputs": [],
   "source": [
    "training_tfrecords = list((DATA_DIR / \"tensorflow_datasets\"/\"nsynth\").glob('**/*train.tfrecord*'))"
   ]
  },
  {
   "cell_type": "code",
   "execution_count": 51,
   "metadata": {
    "ExecuteTime": {
     "end_time": "2019-05-06T19:48:57.951088Z",
     "start_time": "2019-05-06T19:48:57.895098Z"
    }
   },
   "outputs": [],
   "source": [
    "hparams = HParams(  \n",
    "    batch_size = 32,\n",
    "    win_length = 1024,\n",
    "    n_fft = 1024,\n",
    "    hop_length=32,\n",
    "    ref_level_db = 20,\n",
    "    min_level_db = -100,\n",
    "    power = 1, # for spectral inversion\n",
    "    griffin_lim_iters = 50,\n",
    "    spectrogram = True,\n",
    "    #pad=True,\n",
    "    mel = True,\n",
    "    mfcc = True,\n",
    "    mel_matrix_dict = {\n",
    "        'num_mel_bins': 64,\n",
    "        'num_spectrogram_bins' : 513,\n",
    "        'sample_rate' : 16000,\n",
    "        'lower_edge_hertz':125.0,\n",
    "        'upper_edge_hertz':3800.0,\n",
    "    }\n",
    ")"
   ]
  },
  {
   "cell_type": "code",
   "execution_count": 52,
   "metadata": {
    "ExecuteTime": {
     "end_time": "2019-05-06T19:48:58.762072Z",
     "start_time": "2019-05-06T19:48:58.197744Z"
    }
   },
   "outputs": [
    {
     "name": "stderr",
     "output_type": "stream",
     "text": [
      "WARNING: Logging before flag parsing goes to stderr.\n",
      "W0506 12:48:58.688409 140242526574336 deprecation.py:323] From /mnt/cube/tsainbur/conda_envs/tpy3/lib/python3.6/site-packages/tensorflow/python/ops/signal/dct_ops.py:97: to_float (from tensorflow.python.ops.math_ops) is deprecated and will be removed in a future version.\n",
      "Instructions for updating:\n",
      "Use `tf.cast` instead.\n"
     ]
    }
   ],
   "source": [
    "dset = NSynthDataset([str(i) for i in training_tfrecords], hparams)"
   ]
  },
  {
   "cell_type": "code",
   "execution_count": 53,
   "metadata": {
    "ExecuteTime": {
     "end_time": "2019-05-06T19:48:58.884692Z",
     "start_time": "2019-05-06T19:48:58.764487Z"
    }
   },
   "outputs": [],
   "source": [
    "exs = iter(dset.dataset_batch)"
   ]
  },
  {
   "cell_type": "code",
   "execution_count": 54,
   "metadata": {
    "ExecuteTime": {
     "end_time": "2019-05-06T19:49:07.575585Z",
     "start_time": "2019-05-06T19:48:58.886952Z"
    }
   },
   "outputs": [],
   "source": [
    "ex = next(exs)"
   ]
  },
  {
   "cell_type": "code",
   "execution_count": 55,
   "metadata": {
    "ExecuteTime": {
     "end_time": "2019-05-06T19:49:07.641828Z",
     "start_time": "2019-05-06T19:49:07.579228Z"
    }
   },
   "outputs": [],
   "source": [
    "spec_ex = ex['spectrogram'].numpy()[0]"
   ]
  },
  {
   "cell_type": "code",
   "execution_count": 56,
   "metadata": {
    "ExecuteTime": {
     "end_time": "2019-05-06T19:49:08.046394Z",
     "start_time": "2019-05-06T19:49:07.644045Z"
    }
   },
   "outputs": [
    {
     "data": {
      "text/plain": [
       "<matplotlib.image.AxesImage at 0x7f8bc01a8630>"
      ]
     },
     "execution_count": 56,
     "metadata": {},
     "output_type": "execute_result"
    },
    {
     "data": {
      "image/png": "[encoded data removed]",
      "text/plain": [
       "<Figure size 864x432 with 1 Axes>"
      ]
     },
     "metadata": {
      "needs_background": "light"
     },
     "output_type": "display_data"
    }
   ],
   "source": [
    "fig, ax = plt.subplots(ncols=1, figsize=(12,6))\n",
    "ax.matshow(spec_ex.T, aspect='auto', origin='lower')"
   ]
  },
  {
   "cell_type": "code",
   "execution_count": null,
   "metadata": {},
   "outputs": [],
   "source": []
  }
 ],
 "metadata": {
  "kernelspec": {
   "display_name": "Python 3",
   "language": "python",
   "name": "python3"
  },
  "language_info": {
   "codemirror_mode": {
    "name": "ipython",
    "version": 3
   },
   "file_extension": ".py",
   "mimetype": "text/x-python",
   "name": "python",
   "nbconvert_exporter": "python",
   "pygments_lexer": "ipython3",
   "version": "3.6.8"
  }
 },
 "nbformat": 4,
 "nbformat_minor": 2
}
