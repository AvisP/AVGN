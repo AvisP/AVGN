{
 "cells": [
  {
   "cell_type": "markdown",
   "metadata": {},
   "source": [
    "#### Import packages"
   ]
  },
  {
   "cell_type": "code",
   "execution_count": 1,
   "metadata": {
    "ExecuteTime": {
     "end_time": "2019-05-01T20:25:40.897597Z",
     "start_time": "2019-05-01T20:25:39.729119Z"
    }
   },
   "outputs": [
    {
     "name": "stderr",
     "output_type": "stream",
     "text": [
      "/mnt/cube/tsainbur/conda_envs/tpy3/lib/python3.6/site-packages/tqdm/autonotebook/__init__.py:14: TqdmExperimentalWarning: Using `tqdm.autonotebook.tqdm` in notebook mode. Use `tqdm.tqdm` instead to force console mode (e.g. in jupyter console)\n",
      "  \" (e.g. in jupyter console)\", TqdmExperimentalWarning)\n"
     ]
    }
   ],
   "source": [
    "import h5py\n",
    "import numpy as np\n",
    "import deepdish as dd\n",
    "\n",
    "from tqdm.autonotebook import tqdm"
   ]
  },
  {
   "cell_type": "code",
   "execution_count": 2,
   "metadata": {
    "ExecuteTime": {
     "end_time": "2019-05-01T20:25:43.190092Z",
     "start_time": "2019-05-01T20:25:40.902152Z"
    }
   },
   "outputs": [],
   "source": [
    "# load tensorflow based upon version\n",
    "from tensorflow import __version__ as tf_version\n",
    "if tf_version[0] == '1':\n",
    "    import tensorflow as tf\n",
    "    tf.enable_eager_execution()\n",
    "else:\n",
    "    import tensorflow.compat.v1 as tf\n",
    "    tf.enable_eager_execution()"
   ]
  },
  {
   "cell_type": "code",
   "execution_count": 3,
   "metadata": {
    "ExecuteTime": {
     "end_time": "2019-05-01T20:25:43.218336Z",
     "start_time": "2019-05-01T20:25:43.194718Z"
    }
   },
   "outputs": [
    {
     "data": {
      "text/plain": [
       "'import tensorflow.compat.v1 as tf\\ntf.enable_eager_execution()'"
      ]
     },
     "execution_count": 3,
     "metadata": {},
     "output_type": "execute_result"
    }
   ],
   "source": [
    "\"\"\"import tensorflow.compat.v1 as tf\n",
    "tf.enable_eager_execution()\"\"\""
   ]
  },
  {
   "cell_type": "code",
   "execution_count": 4,
   "metadata": {
    "ExecuteTime": {
     "end_time": "2019-05-01T20:25:43.323782Z",
     "start_time": "2019-05-01T20:25:43.221912Z"
    }
   },
   "outputs": [],
   "source": [
    "from avgn.utils.paths import DATA_DIR, ensure_dir\n",
    "from avgn.datasets.create_tfrecord import _bytes_feature, _float_feature, _int64_feature, serialize_example"
   ]
  },
  {
   "cell_type": "code",
   "execution_count": 5,
   "metadata": {
    "ExecuteTime": {
     "end_time": "2019-05-01T20:25:43.616755Z",
     "start_time": "2019-05-01T20:25:43.327362Z"
    }
   },
   "outputs": [],
   "source": [
    "import matplotlib.pyplot as plt\n",
    "%matplotlib inline"
   ]
  },
  {
   "cell_type": "markdown",
   "metadata": {},
   "source": [
    "### load data"
   ]
  },
  {
   "cell_type": "code",
   "execution_count": 6,
   "metadata": {
    "ExecuteTime": {
     "end_time": "2019-05-01T20:25:43.626192Z",
     "start_time": "2019-05-01T20:25:43.620980Z"
    }
   },
   "outputs": [],
   "source": [
    "bird = 'Bird9'\n",
    "species = 'BF'\n",
    "dataset = 'Koumura_Okanoya'"
   ]
  },
  {
   "cell_type": "code",
   "execution_count": 7,
   "metadata": {
    "ExecuteTime": {
     "end_time": "2019-05-01T20:25:45.993551Z",
     "start_time": "2019-05-01T20:25:43.630142Z"
    }
   },
   "outputs": [],
   "source": [
    "data_file = DATA_DIR / species / dataset/ 'syllable_spectrograms' / (bird + '.hdf5')\n",
    "indv_data = dd.io.load(data_file)"
   ]
  },
  {
   "cell_type": "code",
   "execution_count": 8,
   "metadata": {
    "ExecuteTime": {
     "end_time": "2019-05-01T20:25:46.006684Z",
     "start_time": "2019-05-01T20:25:45.997553Z"
    }
   },
   "outputs": [
    {
     "data": {
      "text/plain": [
       "PosixPath('/mnt/cube/tsainbur/Projects/github_repos/AVGN_419/AVGN/data/BF/Koumura_Okanoya/syllable_tfrecord')"
      ]
     },
     "execution_count": 8,
     "metadata": {},
     "output_type": "execute_result"
    }
   ],
   "source": [
    "# prepare the tfrecord output location\n",
    "tf_record_output = DATA_DIR / species / dataset / 'syllable_tfrecord'\n",
    "ensure_dir(tf_record_output)\n",
    "tf_record_output"
   ]
  },
  {
   "cell_type": "markdown",
   "metadata": {},
   "source": [
    "### convert data to tf record"
   ]
  },
  {
   "cell_type": "code",
   "execution_count": 9,
   "metadata": {
    "ExecuteTime": {
     "end_time": "2019-05-01T20:25:46.099682Z",
     "start_time": "2019-05-01T20:25:46.009858Z"
    }
   },
   "outputs": [
    {
     "name": "stdout",
     "output_type": "stream",
     "text": [
      "[13896, 13896, 13896, 13896, 13896, 13896, 13896]\n"
     ]
    }
   ],
   "source": [
    "feature_lens = ([len(indv_data[i]) for i in indv_data.keys()])\n",
    "print(feature_lens)"
   ]
  },
  {
   "cell_type": "code",
   "execution_count": 10,
   "metadata": {
    "ExecuteTime": {
     "end_time": "2019-05-01T20:25:46.190670Z",
     "start_time": "2019-05-01T20:25:46.102355Z"
    }
   },
   "outputs": [],
   "source": [
    "# ensure all features are the same size\n",
    "assert np.all(feature_lens)"
   ]
  },
  {
   "cell_type": "code",
   "execution_count": 11,
   "metadata": {
    "ExecuteTime": {
     "end_time": "2019-05-01T20:25:46.281800Z",
     "start_time": "2019-05-01T20:25:46.194190Z"
    }
   },
   "outputs": [],
   "source": [
    "n_observations = feature_lens[0]"
   ]
  },
  {
   "cell_type": "code",
   "execution_count": 12,
   "metadata": {
    "ExecuteTime": {
     "end_time": "2019-05-01T20:25:46.376192Z",
     "start_time": "2019-05-01T20:25:46.285173Z"
    }
   },
   "outputs": [
    {
     "data": {
      "text/plain": [
       "PosixPath('/mnt/cube/tsainbur/Projects/github_repos/AVGN_419/AVGN/data/BF/Koumura_Okanoya/syllable_tfrecord/Bird9.tfrecord')"
      ]
     },
     "execution_count": 12,
     "metadata": {},
     "output_type": "execute_result"
    }
   ],
   "source": [
    "tfrecord_filename = tf_record_output / (bird + '.tfrecord')\n",
    "tfrecord_filename"
   ]
  },
  {
   "cell_type": "markdown",
   "metadata": {},
   "source": [
    "#### This loop requires you to specify the datatype of your data, if they are not either a float or int64, you will net to convert to a bytes list"
   ]
  },
  {
   "cell_type": "code",
   "execution_count": 13,
   "metadata": {
    "ExecuteTime": {
     "end_time": "2019-05-01T20:25:54.668220Z",
     "start_time": "2019-05-01T20:25:46.380171Z"
    }
   },
   "outputs": [
    {
     "data": {
      "application/vnd.jupyter.widget-view+json": {
       "model_id": "e205840ac27549f7980872ccba7fd366",
       "version_major": 2,
       "version_minor": 0
      },
      "text/plain": [
       "HBox(children=(IntProgress(value=0, max=13896), HTML(value='')))"
      ]
     },
     "metadata": {},
     "output_type": "display_data"
    },
    {
     "name": "stdout",
     "output_type": "stream",
     "text": [
      "\n"
     ]
    }
   ],
   "source": [
    "# loop through hdf5 of examples, save to tfrecord\n",
    "with tf.python_io.TFRecordWriter(str(tfrecord_filename)) as writer:\n",
    "    for exi in tqdm(range(n_observations)):\n",
    "\n",
    "        # create an item in the datset converted to the correct formats (float, int, byte)\n",
    "        example = serialize_example(\n",
    "            {\n",
    "                \"syllable\": {\n",
    "                    \"data\": indv_data[\"syllables\"][exi].flatten().tobytes(),\n",
    "                    \"_type\": _bytes_feature,\n",
    "                },\n",
    "                \"indv\": {\n",
    "                    \"data\": indv_data[\"indv\"][exi].astype(\"|S7\"),\n",
    "                    \"_type\": _bytes_feature,\n",
    "                },\n",
    "                \"orig_wav\": {\n",
    "                    \"data\": indv_data[\"original_wav_name\"][exi].astype(\"|S7\"),\n",
    "                    \"_type\": _bytes_feature,\n",
    "                },\n",
    "                \"label\": {\n",
    "                    \"data\": indv_data[\"syll_labels\"][exi].astype(\"|S7\"),\n",
    "                    \"_type\": _bytes_feature,\n",
    "                },\n",
    "                \"wav_datetime\": {\n",
    "                    \"data\": np.datetime_as_string(\n",
    "                        indv_data[\"wav_datetime\"][exi]\n",
    "                    ).astype(\"|S26\"),\n",
    "                    \"_type\": _bytes_feature,\n",
    "                },\n",
    "                \"length_s\": {\n",
    "                    \"data\": indv_data[\"syll_lengths\"][exi],\n",
    "                    \"_type\": _float_feature,\n",
    "                },\n",
    "                \"syll_start_rel_wav\": {\n",
    "                    \"data\": indv_data[\"syll_start_rel_wav\"][exi],\n",
    "                    \"_type\": _float_feature,\n",
    "                },\n",
    "            }\n",
    "        )\n",
    "        # write the defined example into the dataset\n",
    "        writer.write(example)\n",
    "\n",
    "        # exit after 10 iterations because this is just a test\n",
    "        # if exi == 10:\n",
    "        #    break"
   ]
  },
  {
   "cell_type": "markdown",
   "metadata": {},
   "source": [
    "## A few ways to read the dataset"
   ]
  },
  {
   "cell_type": "markdown",
   "metadata": {},
   "source": [
    "#### test read dataset with tensorflow datasets"
   ]
  },
  {
   "cell_type": "code",
   "execution_count": 14,
   "metadata": {
    "ExecuteTime": {
     "end_time": "2019-05-01T20:25:54.683960Z",
     "start_time": "2019-05-01T20:25:54.679153Z"
    }
   },
   "outputs": [],
   "source": [
    "# list of filenames\n",
    "filenames = [str(tfrecord_filename)]"
   ]
  },
  {
   "cell_type": "code",
   "execution_count": 15,
   "metadata": {
    "ExecuteTime": {
     "end_time": "2019-05-01T20:26:00.268947Z",
     "start_time": "2019-05-01T20:25:54.688456Z"
    }
   },
   "outputs": [],
   "source": [
    "# dataset class https://www.tensorflow.org/api_docs/python/tf/data/TFRecordDataset\n",
    "raw_dataset = tf.data.TFRecordDataset(filenames)"
   ]
  },
  {
   "cell_type": "code",
   "execution_count": 16,
   "metadata": {
    "ExecuteTime": {
     "end_time": "2019-05-01T20:26:00.338885Z",
     "start_time": "2019-05-01T20:26:00.273513Z"
    }
   },
   "outputs": [],
   "source": [
    "# create a 'Dataset' with at most 'count' elements\n",
    "dset = raw_dataset.take(count=10)"
   ]
  },
  {
   "cell_type": "code",
   "execution_count": 17,
   "metadata": {
    "ExecuteTime": {
     "end_time": "2019-05-01T20:26:00.471855Z",
     "start_time": "2019-05-01T20:26:00.340988Z"
    }
   },
   "outputs": [
    {
     "data": {
      "text/plain": [
       "['wav_datetime',\n",
       " 'orig_wav',\n",
       " 'indv',\n",
       " 'label',\n",
       " 'syll_start_rel_wav',\n",
       " 'length_s',\n",
       " 'syllable']"
      ]
     },
     "execution_count": 17,
     "metadata": {},
     "output_type": "execute_result"
    }
   ],
   "source": [
    "# grab a single element from that dataset\n",
    "element = list(dset)[1]\n",
    "# a \"Feature message\" https://www.tensorflow.org/api_docs/python/tf/train/Example\n",
    "example = tf.train.Example()\n",
    "# parse the element in to the example message\n",
    "example.ParseFromString(element.numpy())\n",
    "list(example.features.feature)"
   ]
  },
  {
   "cell_type": "code",
   "execution_count": 18,
   "metadata": {
    "ExecuteTime": {
     "end_time": "2019-05-01T20:26:01.107796Z",
     "start_time": "2019-05-01T20:26:00.475016Z"
    }
   },
   "outputs": [
    {
     "data": {
      "image/png": "[encoded data removed]",
      "text/plain": [
       "<Figure size 648x216 with 3 Axes>"
      ]
     },
     "metadata": {
      "needs_background": "light"
     },
     "output_type": "display_data"
    }
   ],
   "source": [
    "fig, ax = plt.subplots(ncols = 3, figsize=(9,3))\n",
    "for i in range(3):\n",
    "    # grab a single element from that dataset\n",
    "    element = list(dset)[i]\n",
    "    # a \"Feature message\" https://www.tensorflow.org/api_docs/python/tf/train/Example\n",
    "    example = tf.train.Example()\n",
    "    # parse the element in to the example message\n",
    "    example.ParseFromString(element.numpy())\n",
    "    # subset the syllable\n",
    "    syll_buff = dict(example.features.feature)['syllable']\n",
    "    # convert the buffer into a uint8\n",
    "    syll = tf.io.decode_raw(syll_buff.bytes_list.value[0], tf.uint8).numpy().reshape(128,128)\n",
    "    # show the image\n",
    "    ax[i].matshow(syll,origin='lower')"
   ]
  },
  {
   "cell_type": "markdown",
   "metadata": {},
   "source": [
    "#### Test read tfrecord with python io (tensorflow < 2 only)"
   ]
  },
  {
   "cell_type": "code",
   "execution_count": 19,
   "metadata": {
    "ExecuteTime": {
     "end_time": "2019-05-01T20:26:01.113916Z",
     "start_time": "2019-05-01T20:26:01.109967Z"
    }
   },
   "outputs": [
    {
     "name": "stderr",
     "output_type": "stream",
     "text": [
      "WARNING: Logging before flag parsing goes to stderr.\n",
      "W0501 13:26:01.111595 140706436044544 deprecation.py:323] From <ipython-input-19-5c8492118905>:2: tf_record_iterator (from tensorflow.python.lib.io.tf_record) is deprecated and will be removed in a future version.\n",
      "Instructions for updating:\n",
      "Use eager execution and: \n",
      "`tf.data.TFRecordDataset(path)`\n"
     ]
    }
   ],
   "source": [
    "# create an iterator over items in the dataset\n",
    "record_iterator = tf.python_io.tf_record_iterator(path=str(tfrecord_filename))"
   ]
  },
  {
   "cell_type": "code",
   "execution_count": 20,
   "metadata": {
    "ExecuteTime": {
     "end_time": "2019-05-01T20:26:01.699086Z",
     "start_time": "2019-05-01T20:26:01.115664Z"
    }
   },
   "outputs": [
    {
     "data": {
      "image/png": "[encoded data removed]",
      "text/plain": [
       "<Figure size 648x216 with 3 Axes>"
      ]
     },
     "metadata": {
      "needs_background": "light"
     },
     "output_type": "display_data"
    }
   ],
   "source": [
    "fig, ax = plt.subplots(ncols = 3, figsize=(9,3))\n",
    "for i in range(3):\n",
    "    # get the next item in the tfrecord\n",
    "    string_record = record_iterator.__next__()\n",
    "    # create example object\n",
    "    example = tf.train.Example()\n",
    "    # parse example from the record\n",
    "    example.ParseFromString(string_record)\n",
    "    # grab the syllable\n",
    "    test = dict(example.features.feature)['syllable']\n",
    "    # convert from buffer\n",
    "    syll = np.frombuffer(test.bytes_list.value[0], dtype=np.uint8).reshape(128,128)\n",
    "    # show image\n",
    "    ax[i].matshow(syll,origin='lower')"
   ]
  },
  {
   "cell_type": "markdown",
   "metadata": {},
   "source": [
    "### read the dataset by parsing"
   ]
  },
  {
   "cell_type": "code",
   "execution_count": 21,
   "metadata": {
    "ExecuteTime": {
     "end_time": "2019-05-01T20:26:01.703564Z",
     "start_time": "2019-05-01T20:26:01.701123Z"
    }
   },
   "outputs": [],
   "source": [
    "# https://github.com/chiphuyen/stanford-tensorflow-tutorials/blob/master/2017/examples/09_tfrecord_example.py"
   ]
  },
  {
   "cell_type": "code",
   "execution_count": 22,
   "metadata": {
    "ExecuteTime": {
     "end_time": "2019-05-01T20:26:01.788234Z",
     "start_time": "2019-05-01T20:26:01.705332Z"
    }
   },
   "outputs": [],
   "source": [
    "# list of filenames\n",
    "filenames = [str(tfrecord_filename)]"
   ]
  },
  {
   "cell_type": "code",
   "execution_count": 23,
   "metadata": {
    "ExecuteTime": {
     "end_time": "2019-05-01T20:26:01.885440Z",
     "start_time": "2019-05-01T20:26:01.790554Z"
    }
   },
   "outputs": [],
   "source": [
    "raw_dataset = tf.data.TFRecordDataset(filenames)"
   ]
  },
  {
   "cell_type": "code",
   "execution_count": 24,
   "metadata": {
    "ExecuteTime": {
     "end_time": "2019-05-01T20:26:01.965050Z",
     "start_time": "2019-05-01T20:26:01.888822Z"
    }
   },
   "outputs": [],
   "source": [
    "def _dtype_to_tf_feattype(dtype):\n",
    "    \"\"\" reads from tfrecord in the three supported feature formats\n",
    "    \"\"\"\n",
    "    if dtype is tf.float32:\n",
    "        return tf.float32\n",
    "    elif dtype is tf.string:\n",
    "        return tf.string\n",
    "    elif dtype is tf.int64:\n",
    "        return tf.int64\n",
    "    else:\n",
    "        return tf.string\n",
    "    \n",
    "\n",
    "def _parse_function(example_proto, labels, dtypes):\n",
    "    \"\"\" parse dataset from tfrecord, and convert to correct format\n",
    "    \"\"\"\n",
    "    # list features\n",
    "    features = {\n",
    "        lab: tf.FixedLenFeature([], _dtype_to_tf_feattype(dtype))\n",
    "        for lab, dtype in zip(labels, dtypes)\n",
    "    }\n",
    "    # parse features\n",
    "    parsed_features = tf.parse_single_example(example_proto, features)\n",
    "    \n",
    "    parse_list = []\n",
    "    for lab, dtype in zip(labels, dtypes):\n",
    "        if dtype not in [tf.float32, tf.string, tf.int64]:\n",
    "            parse_list.append(tf.decode_raw(parsed_features[lab], dtype))    \n",
    "        else:\n",
    "            parse_list.append(parsed_features[lab])\n",
    "    return parse_list"
   ]
  },
  {
   "cell_type": "code",
   "execution_count": 25,
   "metadata": {
    "ExecuteTime": {
     "end_time": "2019-05-01T20:26:02.079919Z",
     "start_time": "2019-05-01T20:26:01.968775Z"
    }
   },
   "outputs": [],
   "source": [
    "ds_labs = ['syllable', 'indv', 'label', 'length_s', 'orig_wav', 'syll_start_rel_wav', 'wav_datetime']\n",
    "ds_dtype = [tf.uint8, tf.string, tf.string, tf.float32, tf.string, tf.float32, tf.string]"
   ]
  },
  {
   "cell_type": "code",
   "execution_count": 26,
   "metadata": {
    "ExecuteTime": {
     "end_time": "2019-05-01T20:26:02.206380Z",
     "start_time": "2019-05-01T20:26:02.083602Z"
    }
   },
   "outputs": [],
   "source": [
    "dset = raw_dataset.map(lambda x: _parse_function(x, labels=ds_labs, dtypes= ds_dtype))"
   ]
  },
  {
   "cell_type": "code",
   "execution_count": 27,
   "metadata": {
    "ExecuteTime": {
     "end_time": "2019-05-01T20:26:02.281799Z",
     "start_time": "2019-05-01T20:26:02.209564Z"
    }
   },
   "outputs": [
    {
     "name": "stderr",
     "output_type": "stream",
     "text": [
      "W0501 13:26:02.255625 140706436044544 deprecation.py:323] From <ipython-input-27-2db9fe91b0d0>:3: DatasetV1.make_one_shot_iterator (from tensorflow.python.data.ops.dataset_ops) is deprecated and will be removed in a future version.\n",
      "Instructions for updating:\n",
      "Use `for ... in dataset:` to iterate over a dataset. If using `tf.estimator`, return the `Dataset` object directly from your input function. As a last resort, you can use `tf.compat.v1.data.make_one_shot_iterator(dataset)`.\n"
     ]
    }
   ],
   "source": [
    "dataset = dset.shuffle(buffer_size=10000)\n",
    "dataset = dataset.batch(2)\n",
    "iterator = dataset.make_one_shot_iterator()"
   ]
  },
  {
   "cell_type": "code",
   "execution_count": 28,
   "metadata": {
    "ExecuteTime": {
     "end_time": "2019-05-01T20:26:03.232908Z",
     "start_time": "2019-05-01T20:26:02.285848Z"
    }
   },
   "outputs": [
    {
     "data": {
      "text/plain": [
       "(<tf.Tensor: id=134, shape=(2, 16384), dtype=uint8, numpy=\n",
       " array([[0, 0, 0, ..., 0, 0, 0],\n",
       "        [0, 0, 0, ..., 0, 0, 0]], dtype=uint8)>,\n",
       " <tf.Tensor: id=135, shape=(2,), dtype=string, numpy=array([b'Bird9', b'Bird9'], dtype=object)>,\n",
       " <tf.Tensor: id=136, shape=(2,), dtype=string, numpy=array([b'syll', b'syll'], dtype=object)>,\n",
       " <tf.Tensor: id=137, shape=(2,), dtype=float32, numpy=array([0.052, 0.084], dtype=float32)>,\n",
       " <tf.Tensor: id=138, shape=(2,), dtype=string, numpy=array([b'/mnt/cu', b'/mnt/cu'], dtype=object)>,\n",
       " <tf.Tensor: id=139, shape=(2,), dtype=float32, numpy=array([ 1.621, 13.019], dtype=float32)>,\n",
       " <tf.Tensor: id=140, shape=(2,), dtype=string, numpy=\n",
       " array([b'1900-02-09T19:00:00.000000', b'1900-02-09T16:00:00.000000'],\n",
       "       dtype=object)>)"
      ]
     },
     "execution_count": 28,
     "metadata": {},
     "output_type": "execute_result"
    }
   ],
   "source": [
    "iterator.get_next()"
   ]
  },
  {
   "cell_type": "code",
   "execution_count": 29,
   "metadata": {
    "ExecuteTime": {
     "end_time": "2019-05-01T20:26:03.463264Z",
     "start_time": "2019-05-01T20:26:03.236920Z"
    }
   },
   "outputs": [
    {
     "data": {
      "text/plain": [
       "<matplotlib.image.AxesImage at 0x7ff82d0770f0>"
      ]
     },
     "execution_count": 29,
     "metadata": {},
     "output_type": "execute_result"
    },
    {
     "data": {
      "image/png": "[encoded data removed]",
      "text/plain": [
       "<Figure size 288x288 with 1 Axes>"
      ]
     },
     "metadata": {
      "needs_background": "light"
     },
     "output_type": "display_data"
    }
   ],
   "source": [
    "plt.matshow(iterator.get_next()[0][0].numpy().reshape((128,128)), origin='lower')"
   ]
  },
  {
   "cell_type": "code",
   "execution_count": null,
   "metadata": {},
   "outputs": [],
   "source": []
  },
  {
   "cell_type": "code",
   "execution_count": null,
   "metadata": {},
   "outputs": [],
   "source": []
  }
 ],
 "metadata": {
  "kernelspec": {
   "display_name": "Python 3",
   "language": "python",
   "name": "python3"
  },
  "language_info": {
   "codemirror_mode": {
    "name": "ipython",
    "version": 3
   },
   "file_extension": ".py",
   "mimetype": "text/x-python",
   "name": "python",
   "nbconvert_exporter": "python",
   "pygments_lexer": "ipython3",
   "version": "3.6.8"
  }
 },
 "nbformat": 4,
 "nbformat_minor": 2
}
